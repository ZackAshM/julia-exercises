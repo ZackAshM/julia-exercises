{
 "cells": [
  {
   "cell_type": "markdown",
   "metadata": {},
   "source": [
    "# RNA Transcription\n",
    "\n",
    "Given a DNA strand, return its RNA complement (per RNA transcription).\n",
    "\n",
    "Both DNA and RNA strands are a sequence of nucleotides.\n",
    "\n",
    "The four nucleotides found in DNA are adenine (**A**), cytosine (**C**),\n",
    "guanine (**G**) and thymine (**T**).\n",
    "\n",
    "The four nucleotides found in RNA are adenine (**A**), cytosine (**C**),\n",
    "guanine (**G**) and uracil (**U**).\n",
    "\n",
    "Given a DNA strand, its transcribed RNA strand is formed by replacing\n",
    "each nucleotide with its complement:\n",
    "\n",
    "* `G` -> `C`\n",
    "* `C` -> `G`\n",
    "* `T` -> `A`\n",
    "* `A` -> `U`\n",
    "\n",
    "## Source\n",
    "\n",
    "Hyperphysics [http://hyperphysics.phy-astr.gsu.edu/hbase/Organic/transcription.html](http://hyperphysics.phy-astr.gsu.edu/hbase/Organic/transcription.html)\n",
    "\n",
    "## Version compatibility\n",
    "This exercise has been tested on Julia versions >=1.0.\n",
    "\n",
    "## Submitting Incomplete Solutions\n",
    "It's possible to submit an incomplete solution so you can see how others have completed the exercise."
   ]
  },
  {
   "cell_type": "markdown",
   "metadata": {},
   "source": [
    "## Your solution"
   ]
  },
  {
   "cell_type": "code",
   "execution_count": 84,
   "metadata": {},
   "outputs": [
    {
     "data": {
      "text/plain": [
       "to_rna (generic function with 1 method)"
      ]
     },
     "execution_count": 84,
     "metadata": {},
     "output_type": "execute_result"
    }
   ],
   "source": [
    "# first try\n",
    "function to_rna(dna)\n",
    "    \n",
    "    # the valid chars\n",
    "    dna_val = [\"G\", \"C\", \"T\", \"A\"]\n",
    "    rna_val = [\"C\", \"G\", \"A\", \"U\"]\n",
    "    \n",
    "    # handle empty\n",
    "    dna == \"\" && return \"\"\n",
    "    \n",
    "    # if any char in dna is not a valid char, throw error\n",
    "    (nothing in indexin(split(dna,\"\"), dna_val)) && throw(ErrorException(\"Invalid DNA strand\"))\n",
    "    \n",
    "    # make the char by char substitution\n",
    "    subs = Dict(zip(dna_val, rna_val))\n",
    "    return join(replace(split(dna,\"\"), subs...))\n",
    "    \n",
    "end"
   ]
  },
  {
   "cell_type": "code",
   "execution_count": 86,
   "metadata": {},
   "outputs": [
    {
     "data": {
      "text/plain": [
       "to_rna (generic function with 1 method)"
      ]
     },
     "execution_count": 86,
     "metadata": {},
     "output_type": "execute_result"
    }
   ],
   "source": [
    "# submit\n",
    "function to_rna(dna)\n",
    "    sub = Dict('G' => 'C','C' => 'G','T' => 'A','A' => 'U')\n",
    "    return map(c -> (c ∈ keys(sub) ? sub[c] : throw(ErrorException(\"Invalid DNA strand\"))), dna)\n",
    "end"
   ]
  },
  {
   "cell_type": "code",
   "execution_count": 57,
   "metadata": {},
   "outputs": [
    {
     "data": {
      "text/plain": [
       "zip([\"A\", \"B\", \"C\"], [\"X\", \"Y\", \"Z\"])"
      ]
     },
     "execution_count": 57,
     "metadata": {},
     "output_type": "execute_result"
    }
   ],
   "source": [
    "foo = \"AXZB\"\n",
    "valid = [\"A\",\"B\",\"C\"]\n",
    "sub = [\"X\",\"Y\",\"Z\"]\n",
    "subs = Dict(zip(valid, sub))\n",
    "# subs = Dict(\"A\"=>\"B\", \"B\"=>\"Y\")\n",
    "# bar = join(replace(split(foo,\"\"), subs...))\n",
    "# bar"
   ]
  },
  {
   "cell_type": "code",
   "execution_count": 61,
   "metadata": {},
   "outputs": [
    {
     "data": {
      "text/plain": [
       "true"
      ]
     },
     "execution_count": 61,
     "metadata": {},
     "output_type": "execute_result"
    }
   ],
   "source": [
    "nothing in indexin([\"H\", \"E\", \"L\"], [\"T\", \"H\", \"E\", \"Y\"])"
   ]
  },
  {
   "cell_type": "code",
   "execution_count": 66,
   "metadata": {
    "scrolled": true
   },
   "outputs": [
    {
     "data": {
      "text/plain": [
       "\"\""
      ]
     },
     "execution_count": 66,
     "metadata": {},
     "output_type": "execute_result"
    }
   ],
   "source": [
    "to_rna(\"\")"
   ]
  },
  {
   "cell_type": "markdown",
   "metadata": {},
   "source": [
    "## Test suite"
   ]
  },
  {
   "cell_type": "code",
   "execution_count": 87,
   "metadata": {},
   "outputs": [
    {
     "name": "stdout",
     "output_type": "stream",
     "text": [
      "\u001b[37m\u001b[1mTest Summary:         | \u001b[22m\u001b[39m\u001b[32m\u001b[1mPass  \u001b[22m\u001b[39m\u001b[36m\u001b[1mTotal\u001b[22m\u001b[39m\n",
      "basic transformations | \u001b[32m   5  \u001b[39m\u001b[36m    5\u001b[39m\n",
      "\u001b[37m\u001b[1mTest Summary:  | \u001b[22m\u001b[39m\u001b[32m\u001b[1mPass  \u001b[22m\u001b[39m\u001b[36m\u001b[1mTotal\u001b[22m\u001b[39m\n",
      "rna complement | \u001b[32m   1  \u001b[39m\u001b[36m    1\u001b[39m\n",
      "\u001b[37m\u001b[1mTest Summary:  | \u001b[22m\u001b[39m\u001b[32m\u001b[1mPass  \u001b[22m\u001b[39m\u001b[36m\u001b[1mTotal\u001b[22m\u001b[39m\n",
      "error handling | \u001b[32m   3  \u001b[39m\u001b[36m    3\u001b[39m\n"
     ]
    },
    {
     "data": {
      "text/plain": [
       "Test.DefaultTestSet(\"error handling\", Any[Test.DefaultTestSet(\"dna correctly handles invalid input\", Any[], 1, false), Test.DefaultTestSet(\"dna correctly handles completely invalid input\", Any[], 1, false), Test.DefaultTestSet(\"dna correctly handles partially invalid input\", Any[], 1, false)], 0, false)"
      ]
     },
     "execution_count": 87,
     "metadata": {},
     "output_type": "execute_result"
    }
   ],
   "source": [
    "using Test\n",
    "\n",
    "# include(\"rna-transcription.jl\")\n",
    "\n",
    "@testset \"basic transformations\" begin\n",
    "    @testset \"empty rna sequence\" begin\n",
    "        @test to_rna(\"\") == \"\"\n",
    "    end\n",
    "\n",
    "    @testset \"rna complement of cytosine is guanine\" begin\n",
    "        @test to_rna(\"C\") == \"G\"\n",
    "    end\n",
    "\n",
    "    @testset \"rna complement of guanine is cytosine\" begin\n",
    "        @test to_rna(\"G\") == \"C\"\n",
    "    end\n",
    "\n",
    "    @testset \"rna complement of thymine is adenine\" begin\n",
    "        @test to_rna(\"T\") == \"A\"\n",
    "    end\n",
    "\n",
    "    @testset \"rna complement of adenine is uracil\" begin\n",
    "        @test to_rna(\"A\") == \"U\"\n",
    "    end\n",
    "end\n",
    "\n",
    "@testset \"rna complement\" begin\n",
    "    @test to_rna(\"ACGTGGTCTTAA\") == \"UGCACCAGAAUU\"\n",
    "end\n",
    "\n",
    "@testset \"error handling\" begin\n",
    "    @testset \"dna correctly handles invalid input\" begin\n",
    "        @test_throws ErrorException to_rna(\"U\")\n",
    "    end\n",
    "\n",
    "    @testset \"dna correctly handles completely invalid input\" begin\n",
    "        @test_throws ErrorException to_rna(\"XXX\")\n",
    "    end\n",
    "\n",
    "    @testset \"dna correctly handles partially invalid input\" begin\n",
    "        @test_throws ErrorException to_rna(\"ACGTXXXCTTAA\")\n",
    "    end\n",
    "end"
   ]
  },
  {
   "cell_type": "markdown",
   "metadata": {},
   "source": [
    "## Prepare submission\n",
    "To submit your exercise, you need to save your solution in a file called `rna-transcription.jl` before using the CLI.\n",
    "You can either create it manually or use the following functions, which will automatically write every notebook cell that starts with `# submit` to the file `rna-transcription.jl`.\n"
   ]
  },
  {
   "cell_type": "code",
   "execution_count": 89,
   "metadata": {},
   "outputs": [
    {
     "name": "stderr",
     "output_type": "stream",
     "text": [
      "\u001b[32m\u001b[1m  Resolving\u001b[22m\u001b[39m package versions...\n",
      "\u001b[32m\u001b[1mNo Changes\u001b[22m\u001b[39m to `~/.julia/environments/v1.5/Project.toml`\n",
      "\u001b[32m\u001b[1mNo Changes\u001b[22m\u001b[39m to `~/.julia/environments/v1.5/Manifest.toml`\n"
     ]
    },
    {
     "data": {
      "text/plain": [
       "183"
      ]
     },
     "execution_count": 89,
     "metadata": {},
     "output_type": "execute_result"
    }
   ],
   "source": [
    "using Pkg; Pkg.add(\"Exercism\")\n",
    "using Exercism\n",
    "Exercism.create_submission(\"rna-transcription\")"
   ]
  },
  {
   "cell_type": "code",
   "execution_count": null,
   "metadata": {},
   "outputs": [],
   "source": []
  }
 ],
 "metadata": {
  "kernelspec": {
   "display_name": "Julia 1.5.4",
   "language": "julia",
   "name": "julia-1.5"
  },
  "language_info": {
   "file_extension": ".jl",
   "mimetype": "application/julia",
   "name": "julia",
   "version": "1.5.4"
  }
 },
 "nbformat": 4,
 "nbformat_minor": 2
}
