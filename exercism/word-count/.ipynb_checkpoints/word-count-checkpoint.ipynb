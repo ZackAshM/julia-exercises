{
 "cells": [
  {
   "cell_type": "markdown",
   "metadata": {},
   "source": [
    "# Word Count\n",
    "\n",
    "Given a phrase, count the occurrences of each _word_ in that phrase.\n",
    "\n",
    "For the purposes of this exercise you can expect that a _word_ will always be one of:\n",
    "\n",
    "1. A _number_ composed of one or more ASCII digits (ie \"0\" or \"1234\") OR\n",
    "2. A _simple word_ composed of one or more ASCII letters (ie \"a\" or \"they\") OR\n",
    "3. A _contraction_ of two _simple words_ joined by a single apostrophe (ie \"it's\" or \"they're\")\n",
    "\n",
    "When counting words you can assume the following rules:\n",
    "\n",
    "1. The count is _case insensitive_ (ie \"You\", \"you\", and \"YOU\" are 3 uses of the same word)\n",
    "2. The count is _unordered_; the tests will ignore how words and counts are ordered\n",
    "3. Other than the apostrophe in a _contraction_ all forms of _punctuation_ are ignored\n",
    "4. The words can be separated by _any_ form of whitespace (ie \"\\t\", \"\\n\", \" \")\n",
    "\n",
    "For example, for the phrase `\"That's the password: 'PASSWORD 123'!\", cried the Special Agent.\\nSo I fled.` the count would be:\n",
    "\n",
    "```text\n",
    "that's: 1\n",
    "the: 2\n",
    "password: 2\n",
    "123: 1\n",
    "cried: 1\n",
    "special: 1\n",
    "agent: 1\n",
    "so: 1\n",
    "i: 1\n",
    "fled: 1\n",
    "```\n",
    "\n",
    "## Source\n",
    "\n",
    "This is a classic toy problem, but we were reminded of it by seeing it in the Go Tour.\n",
    "\n",
    "## Version compatibility\n",
    "This exercise has been tested on Julia versions >=1.0.\n",
    "\n",
    "## Submitting Incomplete Solutions\n",
    "It's possible to submit an incomplete solution so you can see how others have completed the exercise."
   ]
  },
  {
   "cell_type": "markdown",
   "metadata": {},
   "source": [
    "## Your solution"
   ]
  },
  {
   "cell_type": "code",
   "execution_count": 180,
   "metadata": {},
   "outputs": [
    {
     "data": {
      "text/plain": [
       "wordcount"
      ]
     },
     "execution_count": 180,
     "metadata": {},
     "output_type": "execute_result"
    }
   ],
   "source": [
    "# first try\n",
    "\"\"\"\n",
    "        wordcount(sentence)\n",
    "\n",
    "Returns a dictionary containing recognized words and their count.\n",
    "\"\"\"\n",
    "function wordcount(sentence)\n",
    "    d = Dict()\n",
    "    words = split(strip(lowercase(sentence)), r\"([^a-zA-Z0-9_']+\\W*)+\")\n",
    "    words = map(word -> strip(word,only(\"'\")), words)\n",
    "    foreach(word -> d[word] = count(w -> word == w, words), unique(words))\n",
    "    return delete!(d,\"\")\n",
    "end"
   ]
  },
  {
   "cell_type": "code",
   "execution_count": 207,
   "metadata": {},
   "outputs": [
    {
     "data": {
      "text/plain": [
       "wordcount"
      ]
     },
     "execution_count": 207,
     "metadata": {},
     "output_type": "execute_result"
    }
   ],
   "source": [
    "# submit\n",
    "\"\"\"\n",
    "        wordcount(sentence)\n",
    "\n",
    "Returns a dictionary containing recognized words and their count.\n",
    "\"\"\"\n",
    "function wordcount(sentence)\n",
    "    d = Dict()\n",
    "    words = [lowercase(word.match) for word ∈ eachmatch(r\"(\\w+('\\w)*)+\", sentence)]\n",
    "    foreach(word -> d[word] = count(w -> word == w, words), unique(words))\n",
    "    return d\n",
    "end"
   ]
  },
  {
   "cell_type": "code",
   "execution_count": 205,
   "metadata": {},
   "outputs": [
    {
     "data": {
      "text/plain": [
       "Dict{Any,Any} with 3 entries:\n",
       "  \"don't\" => 1\n",
       "  \"you\"   => 1\n",
       "  \"hello\" => 3"
      ]
     },
     "execution_count": 205,
     "metadata": {},
     "output_type": "execute_result"
    }
   ],
   "source": [
    "# # match(r\"([a-zA-Z]+'[a-zA-Z]+)\", \"First: don't laugh. Then: don't cry.\")\n",
    "# s = \"         First: don't laugh. 'lol'  8 000  Then: don't cry.          \"\n",
    "# lowercase(s)\n",
    "s = \" .\\n,\\t!^&*()~@#Hello,Hello\\$%{}Hello[]You Don't:;'/<>\"\n",
    "# ss = strip(s)\n",
    "# m = eachmatch(r\"([a-zA-Z]+)\", \"First: don't laugh. Then: don't cry.\")\n",
    "# sss = split(ss, r\"[^a-zA-Z0-9]*( )+[^a-zA-z0-9]*\")\n",
    "wordcount(s)\n",
    "# match(r\"\\n\", \"\\n\")\n",
    "# match(r\"red\", \"leather\")\n",
    "# strip(\"'\", ''')\n",
    "# only(\"x\")\n",
    "# split(lowercase(s), r\"([^a-zA-Z0-9_']+\\W*)+\")"
   ]
  },
  {
   "cell_type": "markdown",
   "metadata": {},
   "source": [
    "## Test suite"
   ]
  },
  {
   "cell_type": "code",
   "execution_count": 208,
   "metadata": {},
   "outputs": [
    {
     "name": "stdout",
     "output_type": "stream",
     "text": [
      "\u001b[37m\u001b[1mTest Summary: | \u001b[22m\u001b[39m\u001b[32m\u001b[1mPass  \u001b[22m\u001b[39m\u001b[36m\u001b[1mTotal\u001b[22m\u001b[39m\n",
      "no words      | \u001b[32m   1  \u001b[39m\u001b[36m    1\u001b[39m\n",
      "\u001b[37m\u001b[1mTest Summary:  | \u001b[22m\u001b[39m\u001b[32m\u001b[1mPass  \u001b[22m\u001b[39m\u001b[36m\u001b[1mTotal\u001b[22m\u001b[39m\n",
      "count one word | \u001b[32m   1  \u001b[39m\u001b[36m    1\u001b[39m\n",
      "\u001b[37m\u001b[1mTest Summary:          | \u001b[22m\u001b[39m\u001b[32m\u001b[1mPass  \u001b[22m\u001b[39m\u001b[36m\u001b[1mTotal\u001b[22m\u001b[39m\n",
      "count one of each word | \u001b[32m   1  \u001b[39m\u001b[36m    1\u001b[39m\n",
      "\u001b[37m\u001b[1mTest Summary:                  | \u001b[22m\u001b[39m\u001b[32m\u001b[1mPass  \u001b[22m\u001b[39m\u001b[36m\u001b[1mTotal\u001b[22m\u001b[39m\n",
      "multiple occurrences of a word | \u001b[32m   1  \u001b[39m\u001b[36m    1\u001b[39m\n",
      "\u001b[37m\u001b[1mTest Summary:         | \u001b[22m\u001b[39m\u001b[32m\u001b[1mPass  \u001b[22m\u001b[39m\u001b[36m\u001b[1mTotal\u001b[22m\u001b[39m\n",
      "handles cramped lists | \u001b[32m   1  \u001b[39m\u001b[36m    1\u001b[39m\n",
      "\u001b[37m\u001b[1mTest Summary:          | \u001b[22m\u001b[39m\u001b[32m\u001b[1mPass  \u001b[22m\u001b[39m\u001b[36m\u001b[1mTotal\u001b[22m\u001b[39m\n",
      "handles expanded lists | \u001b[32m   1  \u001b[39m\u001b[36m    1\u001b[39m\n",
      "\u001b[37m\u001b[1mTest Summary:      | \u001b[22m\u001b[39m\u001b[32m\u001b[1mPass  \u001b[22m\u001b[39m\u001b[36m\u001b[1mTotal\u001b[22m\u001b[39m\n",
      "ignore punctuation | \u001b[32m   1  \u001b[39m\u001b[36m    1\u001b[39m\n",
      "\u001b[37m\u001b[1mTest Summary:   | \u001b[22m\u001b[39m\u001b[32m\u001b[1mPass  \u001b[22m\u001b[39m\u001b[36m\u001b[1mTotal\u001b[22m\u001b[39m\n",
      "include numbers | \u001b[32m   1  \u001b[39m\u001b[36m    1\u001b[39m\n",
      "\u001b[37m\u001b[1mTest Summary:  | \u001b[22m\u001b[39m\u001b[32m\u001b[1mPass  \u001b[22m\u001b[39m\u001b[36m\u001b[1mTotal\u001b[22m\u001b[39m\n",
      "normalize case | \u001b[32m   1  \u001b[39m\u001b[36m    1\u001b[39m\n",
      "\u001b[37m\u001b[1mTest Summary:    | \u001b[22m\u001b[39m\u001b[32m\u001b[1mPass  \u001b[22m\u001b[39m\u001b[36m\u001b[1mTotal\u001b[22m\u001b[39m\n",
      "with apostrophes | \u001b[32m   1  \u001b[39m\u001b[36m    1\u001b[39m\n",
      "\u001b[37m\u001b[1mTest Summary:   | \u001b[22m\u001b[39m\u001b[32m\u001b[1mPass  \u001b[22m\u001b[39m\u001b[36m\u001b[1mTotal\u001b[22m\u001b[39m\n",
      "with quotations | \u001b[32m   1  \u001b[39m\u001b[36m    1\u001b[39m\n",
      "\u001b[37m\u001b[1mTest Summary:                 | \u001b[22m\u001b[39m\u001b[32m\u001b[1mPass  \u001b[22m\u001b[39m\u001b[36m\u001b[1mTotal\u001b[22m\u001b[39m\n",
      "substrings from the beginning | \u001b[32m   1  \u001b[39m\u001b[36m    1\u001b[39m\n",
      "\u001b[37m\u001b[1mTest Summary:                          | \u001b[22m\u001b[39m\u001b[32m\u001b[1mPass  \u001b[22m\u001b[39m\u001b[36m\u001b[1mTotal\u001b[22m\u001b[39m\n",
      "multiple spaces not detected as a word | \u001b[32m   1  \u001b[39m\u001b[36m    1\u001b[39m\n",
      "\u001b[37m\u001b[1mTest Summary:                                      | \u001b[22m\u001b[39m\u001b[32m\u001b[1mPass  \u001b[22m\u001b[39m\u001b[36m\u001b[1mTotal\u001b[22m\u001b[39m\n",
      "alternating word separators not detected as a word | \u001b[32m   1  \u001b[39m\u001b[36m    1\u001b[39m\n"
     ]
    },
    {
     "data": {
      "text/plain": [
       "Test.DefaultTestSet(\"alternating word separators not detected as a word\", Any[], 1, false)"
      ]
     },
     "execution_count": 208,
     "metadata": {},
     "output_type": "execute_result"
    }
   ],
   "source": [
    "using Test\n",
    "\n",
    "# include(\"word-count.jl\")\n",
    "\n",
    "@testset \"no words\" begin\n",
    "    @test wordcount(\" .\\n,\\t!^&*()~@#\\$%{}[]:;'/<>\") == Dict()\n",
    "end\n",
    "\n",
    "@testset \"count one word\" begin\n",
    "    @test wordcount(\"word\") == Dict(\"word\" => 1)\n",
    "end\n",
    "\n",
    "@testset \"count one of each word\" begin\n",
    "    @test wordcount(\"one of each\") == Dict(\"one\" => 1, \"of\" => 1, \"each\" => 1)\n",
    "end\n",
    "\n",
    "@testset \"multiple occurrences of a word\" begin\n",
    "    @test wordcount(\"one fish two fish red fish blue fish\") == Dict(\"one\" => 1, \"fish\" => 4, \"two\" => 1, \"red\" => 1, \"blue\" => 1)\n",
    "end\n",
    "\n",
    "@testset \"handles cramped lists\" begin\n",
    "    @test wordcount(\"one,two,three\") == Dict(\"one\" => 1, \"two\" => 1, \"three\" => 1)\n",
    "end\n",
    "\n",
    "@testset \"handles expanded lists\" begin\n",
    "    @test wordcount(\"one,\\ntwo,\\nthree\") == Dict(\"one\" => 1, \"two\" => 1, \"three\" => 1)\n",
    "end\n",
    "\n",
    "@testset \"ignore punctuation\" begin\n",
    "    @test wordcount(\"car: carpet as java: javascript!!&@\\$%^&\") == Dict(\"car\" => 1, \"carpet\" => 1, \"as\" => 1, \"java\" => 1, \"javascript\" => 1)\n",
    "end\n",
    "\n",
    "@testset \"include numbers\" begin\n",
    "    @test wordcount(\"testing, 1, 2 testing\") == Dict(\"testing\" => 2, \"1\" => 1, \"2\" => 1)\n",
    "end\n",
    "\n",
    "@testset \"normalize case\" begin\n",
    "    @test wordcount(\"go Go GO Stop stop\") == Dict(\"go\" => 3, \"stop\" => 2)\n",
    "end\n",
    "\n",
    "@testset \"with apostrophes\" begin\n",
    "    @test wordcount(\"First: don't laugh. Then: don't cry.\") == Dict(\"first\" => 1, \"don't\" => 2, \"laugh\" => 1, \"then\" => 1, \"cry\" => 1)\n",
    "end\n",
    "\n",
    "@testset \"with quotations\" begin\n",
    "    @test wordcount(\"Joe can't tell between 'large' and large.\") == Dict(\"joe\" => 1, \"can't\" => 1, \"tell\" => 1, \"between\" => 1, \"large\" => 2, \"and\" => 1)\n",
    "end\n",
    "\n",
    "@testset \"substrings from the beginning\" begin\n",
    "    @test wordcount(\"Joe can't tell between app, apple and a.\") == Dict(\"joe\" => 1, \"can't\" => 1, \"tell\" => 1, \"between\" => 1, \"app\" => 1, \"apple\" => 1, \"and\" => 1, \"a\" => 1)\n",
    "end\n",
    "\n",
    "@testset \"multiple spaces not detected as a word\" begin\n",
    "    @test wordcount(\" multiple   whitespaces\") == Dict(\"multiple\" => 1, \"whitespaces\" => 1)\n",
    "end\n",
    "\n",
    "@testset \"alternating word separators not detected as a word\" begin\n",
    "    @test wordcount(\",\\n,one,\\n ,two \\n 'three'\") == Dict(\"one\" => 1, \"two\" => 1, \"three\" => 1)\n",
    "end"
   ]
  },
  {
   "cell_type": "markdown",
   "metadata": {},
   "source": [
    "## Prepare submission\n",
    "To submit your exercise, you need to save your solution in a file called `word-count.jl` before using the CLI.\n",
    "You can either create it manually or use the following functions, which will automatically write every notebook cell that starts with `# submit` to the file `word-count.jl`.\n"
   ]
  },
  {
   "cell_type": "code",
   "execution_count": 209,
   "metadata": {},
   "outputs": [
    {
     "name": "stderr",
     "output_type": "stream",
     "text": [
      "\u001b[32m\u001b[1m  Resolving\u001b[22m\u001b[39m package versions...\n",
      "\u001b[32m\u001b[1mNo Changes\u001b[22m\u001b[39m to `~/.julia/environments/v1.5/Project.toml`\n",
      "\u001b[32m\u001b[1mNo Changes\u001b[22m\u001b[39m to `~/.julia/environments/v1.5/Manifest.toml`\n"
     ]
    },
    {
     "data": {
      "text/plain": [
       "324"
      ]
     },
     "execution_count": 209,
     "metadata": {},
     "output_type": "execute_result"
    }
   ],
   "source": [
    "using Pkg; Pkg.add(\"Exercism\")\n",
    "using Exercism\n",
    "Exercism.create_submission(\"word-count\")"
   ]
  },
  {
   "cell_type": "code",
   "execution_count": null,
   "metadata": {},
   "outputs": [],
   "source": []
  }
 ],
 "metadata": {
  "kernelspec": {
   "display_name": "Julia 1.5.4",
   "language": "julia",
   "name": "julia-1.5"
  },
  "language_info": {
   "file_extension": ".jl",
   "mimetype": "application/julia",
   "name": "julia",
   "version": "1.5.4"
  }
 },
 "nbformat": 4,
 "nbformat_minor": 2
}
