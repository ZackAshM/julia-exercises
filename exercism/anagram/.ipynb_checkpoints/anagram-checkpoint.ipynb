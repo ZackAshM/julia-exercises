{
 "cells": [
  {
   "cell_type": "markdown",
   "metadata": {},
   "source": [
    "# Anagram\n",
    "\n",
    "An anagram is a rearrangement of letters to form a new word.\n",
    "Given a word and a list of candidates, select the sublist of anagrams of the given word.\n",
    "\n",
    "Given `\"listen\"` and a list of candidates like `\"enlists\" \"google\"\n",
    "\"inlets\" \"banana\"` the program should return a list containing\n",
    "`\"inlets\"`.\n",
    "\n",
    "## Source\n",
    "\n",
    "Inspired by the Extreme Startup game [https://github.com/rchatley/extreme_startup](https://github.com/rchatley/extreme_startup)\n",
    "\n",
    "## Version compatibility\n",
    "This exercise has been tested on Julia versions >=1.0.\n",
    "\n",
    "## Submitting Incomplete Solutions\n",
    "It's possible to submit an incomplete solution so you can see how others have completed the exercise."
   ]
  },
  {
   "cell_type": "markdown",
   "metadata": {},
   "source": [
    "## Your solution"
   ]
  },
  {
   "cell_type": "code",
   "execution_count": 52,
   "metadata": {},
   "outputs": [
    {
     "data": {
      "text/plain": [
       "detect_anagrams (generic function with 1 method)"
      ]
     },
     "execution_count": 52,
     "metadata": {},
     "output_type": "execute_result"
    }
   ],
   "source": [
    "# submit\n",
    "\"\"\"\n",
    "        detect_anagrams(subject, candidates)\n",
    "\n",
    "returns a list of which candidates are anagrams of the subject\n",
    "\"\"\"\n",
    "function detect_anagrams(subject, candidates)\n",
    "    valid = sort(split(lowercase(subject),\"\"))\n",
    "    return [c for c ∈ candidates if (sort(split(lowercase(c),\"\")) == valid) & (lowercase(subject) != lowercase(c))]\n",
    "end\n",
    "\n",
    "# using permutation function\n",
    "# using Combinatorics\n",
    "\n",
    "# function detect_anagrams(subject, candidates)\n",
    "#     s = lowercase(subject)\n",
    "#     return [c for c ∈ candidates if (split(lowercase(c),\"\") ∈ permutations(split(s,\"\"))) & (s != lowercase(c))]\n",
    "# end"
   ]
  },
  {
   "cell_type": "code",
   "execution_count": 43,
   "metadata": {
    "scrolled": true
   },
   "outputs": [
    {
     "data": {
      "text/plain": [
       "\"helo\""
      ]
     },
     "execution_count": 43,
     "metadata": {},
     "output_type": "execute_result"
    }
   ],
   "source": [
    "# using Combinatorics\n",
    "\n",
    "# split(\"lolhe\",\"\") ∈ permutations(split(\"hello\",\"\"))\n",
    "\n",
    "s = \"hello\"\n",
    "\n",
    "letters = unique(s)\n",
    "code = join([l^count(f -> occursin(f, s), l) for l ∈ letters])\n",
    "\n",
    "# join([l^count(l ∈ letters) for l ∈ \"leolh\"])"
   ]
  },
  {
   "cell_type": "code",
   "execution_count": 46,
   "metadata": {},
   "outputs": [
    {
     "data": {
      "text/plain": [
       "5-element Array{SubString{String},1}:\n",
       " \"e\"\n",
       " \"h\"\n",
       " \"l\"\n",
       " \"l\"\n",
       " \"o\""
      ]
     },
     "execution_count": 46,
     "metadata": {},
     "output_type": "execute_result"
    }
   ],
   "source": [
    "sort(split(\"hello\",\"\"))"
   ]
  },
  {
   "cell_type": "markdown",
   "metadata": {},
   "source": [
    "## Test suite"
   ]
  },
  {
   "cell_type": "code",
   "execution_count": 56,
   "metadata": {},
   "outputs": [
    {
     "name": "stdout",
     "output_type": "stream",
     "text": [
      "\u001b[37m\u001b[1mTest Summary: | \u001b[22m\u001b[39m\u001b[32m\u001b[1mPass  \u001b[22m\u001b[39m\u001b[36m\u001b[1mTotal\u001b[22m\u001b[39m\n",
      "no matches    | \u001b[32m   1  \u001b[39m\u001b[36m    1\u001b[39m\n",
      "\u001b[37m\u001b[1mTest Summary:          | \u001b[22m\u001b[39m\u001b[32m\u001b[1mPass  \u001b[22m\u001b[39m\u001b[36m\u001b[1mTotal\u001b[22m\u001b[39m\n",
      "detects simple anagram | \u001b[32m   1  \u001b[39m\u001b[36m    1\u001b[39m\n",
      "\u001b[37m\u001b[1mTest Summary:                   | \u001b[22m\u001b[39m\u001b[32m\u001b[1mPass  \u001b[22m\u001b[39m\u001b[36m\u001b[1mTotal\u001b[22m\u001b[39m\n",
      "does not detect false positives | \u001b[32m   1  \u001b[39m\u001b[36m    1\u001b[39m\n",
      "\u001b[37m\u001b[1mTest Summary:        | \u001b[22m\u001b[39m\u001b[32m\u001b[1mPass  \u001b[22m\u001b[39m\u001b[36m\u001b[1mTotal\u001b[22m\u001b[39m\n",
      "detects two anagrams | \u001b[32m   1  \u001b[39m\u001b[36m    1\u001b[39m\n",
      "\u001b[37m\u001b[1mTest Summary:                   | \u001b[22m\u001b[39m\u001b[32m\u001b[1mPass  \u001b[22m\u001b[39m\u001b[36m\u001b[1mTotal\u001b[22m\u001b[39m\n",
      "does not detect anagram subsets | \u001b[32m   1  \u001b[39m\u001b[36m    1\u001b[39m\n",
      "\u001b[37m\u001b[1mTest Summary:   | \u001b[22m\u001b[39m\u001b[32m\u001b[1mPass  \u001b[22m\u001b[39m\u001b[36m\u001b[1mTotal\u001b[22m\u001b[39m\n",
      "detects anagram | \u001b[32m   1  \u001b[39m\u001b[36m    1\u001b[39m\n",
      "\u001b[37m\u001b[1mTest Summary:          | \u001b[22m\u001b[39m\u001b[32m\u001b[1mPass  \u001b[22m\u001b[39m\u001b[36m\u001b[1mTotal\u001b[22m\u001b[39m\n",
      "detects three anagrams | \u001b[32m   1  \u001b[39m\u001b[36m    1\u001b[39m\n",
      "\u001b[37m\u001b[1mTest Summary:                                 | \u001b[22m\u001b[39m\u001b[32m\u001b[1mPass  \u001b[22m\u001b[39m\u001b[36m\u001b[1mTotal\u001b[22m\u001b[39m\n",
      "detects multiple anagrams with different case | \u001b[32m   1  \u001b[39m\u001b[36m    1\u001b[39m\n",
      "\u001b[37m\u001b[1mTest Summary:                   | \u001b[22m\u001b[39m\u001b[32m\u001b[1mPass  \u001b[22m\u001b[39m\u001b[36m\u001b[1mTotal\u001b[22m\u001b[39m\n",
      "does not detect identical words | \u001b[32m   1  \u001b[39m\u001b[36m    1\u001b[39m\n",
      "\u001b[37m\u001b[1mTest Summary:                                        | \u001b[22m\u001b[39m\u001b[32m\u001b[1mPass  \u001b[22m\u001b[39m\u001b[36m\u001b[1mTotal\u001b[22m\u001b[39m\n",
      "does not detect non-anagrams with identical checksum | \u001b[32m   1  \u001b[39m\u001b[36m    1\u001b[39m\n",
      "\u001b[37m\u001b[1mTest Summary:                       | \u001b[22m\u001b[39m\u001b[32m\u001b[1mPass  \u001b[22m\u001b[39m\u001b[36m\u001b[1mTotal\u001b[22m\u001b[39m\n",
      "detects anagrams case-insensitively | \u001b[32m   1  \u001b[39m\u001b[36m    1\u001b[39m\n",
      "\u001b[37m\u001b[1mTest Summary:                                   | \u001b[22m\u001b[39m\u001b[32m\u001b[1mPass  \u001b[22m\u001b[39m\u001b[36m\u001b[1mTotal\u001b[22m\u001b[39m\n",
      "detects anagrams using case-insensitive subject | \u001b[32m   1  \u001b[39m\u001b[36m    1\u001b[39m\n",
      "\u001b[37m\u001b[1mTest Summary:                                            | \u001b[22m\u001b[39m\u001b[32m\u001b[1mPass  \u001b[22m\u001b[39m\u001b[36m\u001b[1mTotal\u001b[22m\u001b[39m\n",
      "detects anagrams using case-insensitive possible matches | \u001b[32m   1  \u001b[39m\u001b[36m    1\u001b[39m\n",
      "\u001b[37m\u001b[1mTest Summary:                                               | \u001b[22m\u001b[39m\u001b[32m\u001b[1mPass  \u001b[22m\u001b[39m\u001b[36m\u001b[1mTotal\u001b[22m\u001b[39m\n",
      "does not detect an anagram if the original word is repeated | \u001b[32m   1  \u001b[39m\u001b[36m    1\u001b[39m\n",
      "\u001b[37m\u001b[1mTest Summary:                             | \u001b[22m\u001b[39m\u001b[32m\u001b[1mPass  \u001b[22m\u001b[39m\u001b[36m\u001b[1mTotal\u001b[22m\u001b[39m\n",
      "does not detect a word as its own anagram | \u001b[32m   1  \u001b[39m\u001b[36m    1\u001b[39m\n",
      "\u001b[37m\u001b[1mTest Summary:                                              | \u001b[22m\u001b[39m\u001b[32m\u001b[1mPass  \u001b[22m\u001b[39m\u001b[36m\u001b[1mTotal\u001b[22m\u001b[39m\n",
      "does not detect a anagram if the original word is repeated | \u001b[32m   1  \u001b[39m\u001b[36m    1\u001b[39m\n",
      "\u001b[37m\u001b[1mTest Summary:                              | \u001b[22m\u001b[39m\u001b[32m\u001b[1mPass  \u001b[22m\u001b[39m\u001b[36m\u001b[1mTotal\u001b[22m\u001b[39m\n",
      "anagrams must use all letters exactly once | \u001b[32m   1  \u001b[39m\u001b[36m    1\u001b[39m\n",
      "\u001b[37m\u001b[1mTest Summary:                                           | \u001b[22m\u001b[39m\u001b[32m\u001b[1mPass  \u001b[22m\u001b[39m\u001b[36m\u001b[1mTotal\u001b[22m\u001b[39m\n",
      "words are not anagrams of themselves (case-insensitive) | \u001b[32m   1  \u001b[39m\u001b[36m    1\u001b[39m\n",
      "\u001b[37m\u001b[1mTest Summary:                               | \u001b[22m\u001b[39m\u001b[32m\u001b[1mPass  \u001b[22m\u001b[39m\u001b[36m\u001b[1mTotal\u001b[22m\u001b[39m\n",
      "words other than themselves can be anagrams | \u001b[32m   1  \u001b[39m\u001b[36m    1\u001b[39m\n",
      "\u001b[37m\u001b[1mTest Summary:                   | \u001b[22m\u001b[39m\u001b[32m\u001b[1mPass  \u001b[22m\u001b[39m\u001b[36m\u001b[1mTotal\u001b[22m\u001b[39m\n",
      "capital word is not own anagram | \u001b[32m   1  \u001b[39m\u001b[36m    1\u001b[39m\n"
     ]
    },
    {
     "data": {
      "text/plain": [
       "Test.DefaultTestSet(\"capital word is not own anagram\", Any[], 1, false)"
      ]
     },
     "execution_count": 56,
     "metadata": {},
     "output_type": "execute_result"
    }
   ],
   "source": [
    "using Test\n",
    "\n",
    "# include(\"anagram.jl\")\n",
    "\n",
    "@testset \"no matches\" begin\n",
    "    @test detect_anagrams(\"diaper\", [\"hello\", \"world\", \"zombies\", \"pants\"]) == []\n",
    "end\n",
    "\n",
    "@testset \"detects simple anagram\" begin\n",
    "    @test detect_anagrams(\"ant\", [\"tan\", \"stand\", \"at\"]) == [\"tan\"]\n",
    "end\n",
    "\n",
    "@testset \"does not detect false positives\" begin\n",
    "    @test detect_anagrams(\"galea\", [\"eagle\"]) == []\n",
    "end\n",
    "\n",
    "@testset \"detects two anagrams\" begin\n",
    "    @test detect_anagrams(\"master\", [\"stream\", \"pigeon\", \"maters\"]) == [\"stream\", \"maters\"]\n",
    "end\n",
    "\n",
    "@testset \"does not detect anagram subsets\" begin\n",
    "    @test detect_anagrams(\"good\", [\"dog\", \"goody\"]) == []\n",
    "end\n",
    "\n",
    "@testset \"detects anagram\" begin\n",
    "    @test detect_anagrams(\"listen\", [\"enlists\", \"google\", \"inlets\", \"banana\"]) == [\"inlets\"]\n",
    "end\n",
    "\n",
    "@testset \"detects three anagrams\" begin\n",
    "    @test detect_anagrams(\"allergy\", [\"gallery\", \"ballerina\", \"regally\", \"clergy\", \"largely\", \"leading\"]) == [\"gallery\", \"regally\", \"largely\"]\n",
    "end\n",
    "\n",
    "@testset \"detects multiple anagrams with different case\" begin\n",
    "    @test detect_anagrams(\"nose\", [\"Eons\", \"ONES\"]) == [\"Eons\", \"ONES\"]\n",
    "end\n",
    "\n",
    "@testset \"does not detect identical words\" begin\n",
    "    @test detect_anagrams(\"corn\", [\"corn\", \"dark\", \"Corn\", \"rank\", \"CORN\", \"cron\", \"park\"]) == [\"cron\"]\n",
    "end\n",
    "\n",
    "@testset \"does not detect non-anagrams with identical checksum\" begin\n",
    "    @test detect_anagrams(\"mass\", [\"last\"]) == []\n",
    "end\n",
    "\n",
    "@testset \"detects anagrams case-insensitively\" begin\n",
    "    @test detect_anagrams(\"Orchestra\", [\"cashregister\", \"Carthorse\", \"radishes\"]) == [\"Carthorse\"]\n",
    "end\n",
    "\n",
    "@testset \"detects anagrams using case-insensitive subject\" begin\n",
    "    @test detect_anagrams(\"Orchestra\", [\"cashregister\", \"carthorse\", \"radishes\"]) == [\"carthorse\"]\n",
    "end\n",
    "\n",
    "@testset \"detects anagrams using case-insensitive possible matches\" begin\n",
    "    @test detect_anagrams(\"orchestra\", [\"cashregister\", \"Carthorse\", \"radishes\"]) == [\"Carthorse\"]\n",
    "end\n",
    "\n",
    "@testset \"does not detect an anagram if the original word is repeated\" begin\n",
    "    @test detect_anagrams(\"go\", [\"go Go GO\"]) == []\n",
    "end\n",
    "\n",
    "@testset \"does not detect a word as its own anagram\" begin\n",
    "    @test detect_anagrams(\"banana\", [\"Banana\"]) == []\n",
    "end\n",
    "\n",
    "@testset \"does not detect a anagram if the original word is repeated\" begin\n",
    "    @test detect_anagrams(\"go\", [\"go Go GO\"]) == []\n",
    "end\n",
    "\n",
    "@testset \"anagrams must use all letters exactly once\" begin\n",
    "    @test detect_anagrams(\"tapper\", [\"patter\"]) == []\n",
    "end\n",
    "\n",
    "@testset \"words are not anagrams of themselves (case-insensitive)\" begin\n",
    "    @test detect_anagrams(\"BANANA\", [\"BANANA\", \"Banana\", \"banana\"]) == []\n",
    "end\n",
    "\n",
    "@testset \"words other than themselves can be anagrams\" begin\n",
    "    @test detect_anagrams(\"LISTEN\", [\"Listen\", \"Silent\", \"LISTEN\"]) == [\"Silent\"]\n",
    "end\n",
    "\n",
    "@testset \"capital word is not own anagram\" begin\n",
    "    @test detect_anagrams(\"BANANA\", [\"Banana\"]) == []\n",
    "end"
   ]
  },
  {
   "cell_type": "markdown",
   "metadata": {},
   "source": [
    "## Prepare submission\n",
    "To submit your exercise, you need to save your solution in a file called `anagram.jl` before using the CLI.\n",
    "You can either create it manually or use the following functions, which will automatically write every notebook cell that starts with `# submit` to the file `anagram.jl`.\n"
   ]
  },
  {
   "cell_type": "code",
   "execution_count": 55,
   "metadata": {},
   "outputs": [
    {
     "name": "stderr",
     "output_type": "stream",
     "text": [
      "\u001b[32m\u001b[1m  Resolving\u001b[22m\u001b[39m package versions...\n",
      "\u001b[32m\u001b[1mNo Changes\u001b[22m\u001b[39m to `~/.julia/environments/v1.5/Project.toml`\n",
      "\u001b[32m\u001b[1mNo Changes\u001b[22m\u001b[39m to `~/.julia/environments/v1.5/Manifest.toml`\n"
     ]
    },
    {
     "data": {
      "text/plain": [
       "468"
      ]
     },
     "execution_count": 55,
     "metadata": {},
     "output_type": "execute_result"
    }
   ],
   "source": [
    "using Pkg; Pkg.add(\"Exercism\")\n",
    "using Exercism\n",
    "Exercism.create_submission(\"anagram\")"
   ]
  },
  {
   "cell_type": "code",
   "execution_count": null,
   "metadata": {},
   "outputs": [],
   "source": []
  }
 ],
 "metadata": {
  "kernelspec": {
   "display_name": "Julia 1.5.4",
   "language": "julia",
   "name": "julia-1.5"
  },
  "language_info": {
   "file_extension": ".jl",
   "mimetype": "application/julia",
   "name": "julia",
   "version": "1.5.4"
  }
 },
 "nbformat": 4,
 "nbformat_minor": 2
}
