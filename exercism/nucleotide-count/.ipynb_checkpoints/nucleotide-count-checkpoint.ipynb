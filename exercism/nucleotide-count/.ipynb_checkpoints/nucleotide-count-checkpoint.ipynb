{
 "cells": [
  {
   "cell_type": "markdown",
   "metadata": {},
   "source": [
    "# Nucleotide Count\n",
    "\n",
    "Each of us inherits from our biological parents a set of chemical instructions known as DNA that influence how our bodies are constructed. All known life depends on DNA!\n",
    "\n",
    "> Note: You do not need to understand anything about nucleotides or DNA to complete this exercise.\n",
    "\n",
    "DNA is a long chain of other chemicals and the most important are the four nucleotides, adenine, cytosine, guanine and thymine. A single DNA chain can contain billions of these four nucleotides and the order in which they occur is important!\n",
    "We call the order of these nucleotides in a bit of DNA a \"DNA sequence\".\n",
    "\n",
    "We represent a DNA sequence as an ordered collection of these four nucleotides and a common way to do that is with a string of characters such as \"ATTACG\" for a DNA sequence of 6 nucleotides.\n",
    "'A' for adenine, 'C' for cytosine, 'G' for guanine, and 'T' for thymine.\n",
    "\n",
    "Given a string representing a DNA sequence, count how many of each nucleotide is present.\n",
    "If the string contains characters that aren't A, C, G, or T then it is invalid and you should signal an error.\n",
    "\n",
    "For example:\n",
    "\n",
    "```\n",
    "\"GATTACA\" -> 'A': 3, 'C': 1, 'G': 1, 'T': 2\n",
    "\"INVALID\" -> error\n",
    "```\n",
    "\n",
    "## Source\n",
    "\n",
    "The Calculating DNA Nucleotides_problem at Rosalind [http://rosalind.info/problems/dna/](http://rosalind.info/problems/dna/)\n",
    "\n",
    "## Version compatibility\n",
    "This exercise has been tested on Julia versions >=1.0.\n",
    "\n",
    "## Submitting Incomplete Solutions\n",
    "It's possible to submit an incomplete solution so you can see how others have completed the exercise."
   ]
  },
  {
   "cell_type": "markdown",
   "metadata": {},
   "source": [
    "## Your solution"
   ]
  },
  {
   "cell_type": "code",
   "execution_count": 11,
   "metadata": {},
   "outputs": [
    {
     "data": {
      "text/plain": [
       "count_nucleotides"
      ]
     },
     "execution_count": 11,
     "metadata": {},
     "output_type": "execute_result"
    }
   ],
   "source": [
    "# first try\n",
    "\"\"\"\n",
    "    count_nucleotides(strand)\n",
    "\n",
    "The frequency of each nucleotide within `strand` as a dictionary.\n",
    "\n",
    "Invalid strands raise a `DomainError`.\n",
    "\n",
    "\"\"\"\n",
    "function count_nucleotides(strand)\n",
    "    return_dict = Dict('A' => 0, 'C' => 0, 'G' => 0, 'T' => 0)\n",
    "    valid = ['A', 'C', 'G', 'T']\n",
    "    for char in strand\n",
    "        if !(char in valid)\n",
    "            throw(DomainError(char, \"strand can only contain 'A', 'C', 'G', and 'T'\"))\n",
    "        end\n",
    "        for i in range(1, length=4)\n",
    "            if char == valid[i]\n",
    "                return_dict[valid[i]] += 1\n",
    "            end\n",
    "        end\n",
    "    end\n",
    "    return return_dict\n",
    "end"
   ]
  },
  {
   "cell_type": "code",
   "execution_count": 38,
   "metadata": {},
   "outputs": [
    {
     "data": {
      "text/plain": [
       "count_nucleotides"
      ]
     },
     "execution_count": 38,
     "metadata": {},
     "output_type": "execute_result"
    }
   ],
   "source": [
    "# submit\n",
    "\"\"\"\n",
    "    count_nucleotides(strand)\n",
    "\n",
    "The frequency of each nucleotide within `strand` as a dictionary.\n",
    "\n",
    "Invalid strands raise a `DomainError`.\n",
    "\n",
    "\"\"\"\n",
    "function count_nucleotides(strand)\n",
    "    return_dict = Dict('A' => 0, 'C' => 0, 'G' => 0, 'T' => 0)\n",
    "    foreach(c -> c ∈ keys(return_dict) ? return_dict[c] += 1 : throw(DomainError(\"Invalid strand\")), strand)\n",
    "    return return_dict\n",
    "end"
   ]
  },
  {
   "cell_type": "code",
   "execution_count": 37,
   "metadata": {},
   "outputs": [],
   "source": [
    "# count_nucleotides(\"AATREW\")\n",
    "return_dict = Dict('A' => 0, 'C' => 0, 'G' => 0, 'T' => 0)\n",
    "strand = \"AC\"\n",
    "foreach(c -> c ∈ keys(return_dict) ? return_dict[c] += 1 : throw(DomainError(\"Invalid strand\")), strand)"
   ]
  },
  {
   "cell_type": "code",
   "execution_count": 36,
   "metadata": {},
   "outputs": [
    {
     "name": "stdout",
     "output_type": "stream",
     "text": [
      "search: \u001b[0m\u001b[1mf\u001b[22m\u001b[0m\u001b[1mo\u001b[22m\u001b[0m\u001b[1mr\u001b[22m\u001b[0m\u001b[1me\u001b[22m\u001b[0m\u001b[1ma\u001b[22m\u001b[0m\u001b[1mc\u001b[22m\u001b[0m\u001b[1mh\u001b[22m\n",
      "\n"
     ]
    },
    {
     "data": {
      "text/latex": [
       "\\begin{verbatim}\n",
       "foreach(f, c...) -> Nothing\n",
       "\\end{verbatim}\n",
       "Call function \\texttt{f} on each element of iterable \\texttt{c}. For multiple iterable arguments, \\texttt{f} is called elementwise. \\texttt{foreach} should be used instead of \\texttt{map} when the results of \\texttt{f} are not needed, for example in \\texttt{foreach(println, array)}.\n",
       "\n",
       "\\section{Examples}\n",
       "\\begin{verbatim}\n",
       "julia> a = 1:3:7;\n",
       "\n",
       "julia> foreach(x -> println(x^2), a)\n",
       "1\n",
       "16\n",
       "49\n",
       "\\end{verbatim}\n"
      ],
      "text/markdown": [
       "```\n",
       "foreach(f, c...) -> Nothing\n",
       "```\n",
       "\n",
       "Call function `f` on each element of iterable `c`. For multiple iterable arguments, `f` is called elementwise. `foreach` should be used instead of `map` when the results of `f` are not needed, for example in `foreach(println, array)`.\n",
       "\n",
       "# Examples\n",
       "\n",
       "```jldoctest\n",
       "julia> a = 1:3:7;\n",
       "\n",
       "julia> foreach(x -> println(x^2), a)\n",
       "1\n",
       "16\n",
       "49\n",
       "```\n"
      ],
      "text/plain": [
       "\u001b[36m  foreach(f, c...) -> Nothing\u001b[39m\n",
       "\n",
       "  Call function \u001b[36mf\u001b[39m on each element of iterable \u001b[36mc\u001b[39m. For multiple iterable\n",
       "  arguments, \u001b[36mf\u001b[39m is called elementwise. \u001b[36mforeach\u001b[39m should be used instead of \u001b[36mmap\u001b[39m\n",
       "  when the results of \u001b[36mf\u001b[39m are not needed, for example in \u001b[36mforeach(println,\n",
       "  array)\u001b[39m.\n",
       "\n",
       "\u001b[1m  Examples\u001b[22m\n",
       "\u001b[1m  ≡≡≡≡≡≡≡≡≡≡\u001b[22m\n",
       "\n",
       "\u001b[36m  julia> a = 1:3:7;\u001b[39m\n",
       "\u001b[36m  \u001b[39m\n",
       "\u001b[36m  julia> foreach(x -> println(x^2), a)\u001b[39m\n",
       "\u001b[36m  1\u001b[39m\n",
       "\u001b[36m  16\u001b[39m\n",
       "\u001b[36m  49\u001b[39m"
      ]
     },
     "execution_count": 36,
     "metadata": {},
     "output_type": "execute_result"
    }
   ],
   "source": [
    "?foreach"
   ]
  },
  {
   "cell_type": "markdown",
   "metadata": {},
   "source": [
    "## Test suite"
   ]
  },
  {
   "cell_type": "code",
   "execution_count": 39,
   "metadata": {},
   "outputs": [
    {
     "name": "stdout",
     "output_type": "stream",
     "text": [
      "\u001b[37m\u001b[1mTest Summary: | \u001b[22m\u001b[39m\u001b[32m\u001b[1mPass  \u001b[22m\u001b[39m\u001b[36m\u001b[1mTotal\u001b[22m\u001b[39m\n",
      "empty strand  | \u001b[32m   1  \u001b[39m\u001b[36m    1\u001b[39m\n",
      "\u001b[37m\u001b[1mTest Summary:                                        | \u001b[22m\u001b[39m\u001b[32m\u001b[1mPass  \u001b[22m\u001b[39m\u001b[36m\u001b[1mTotal\u001b[22m\u001b[39m\n",
      "strang with one nucleotide in single-character input | \u001b[32m   1  \u001b[39m\u001b[36m    1\u001b[39m\n",
      "\u001b[37m\u001b[1mTest Summary:                   | \u001b[22m\u001b[39m\u001b[32m\u001b[1mPass  \u001b[22m\u001b[39m\u001b[36m\u001b[1mTotal\u001b[22m\u001b[39m\n",
      "strand with repeated nucleotide | \u001b[32m   1  \u001b[39m\u001b[36m    1\u001b[39m\n",
      "\u001b[37m\u001b[1mTest Summary:                    | \u001b[22m\u001b[39m\u001b[32m\u001b[1mPass  \u001b[22m\u001b[39m\u001b[36m\u001b[1mTotal\u001b[22m\u001b[39m\n",
      "strand with multiple nucleotides | \u001b[32m   1  \u001b[39m\u001b[36m    1\u001b[39m\n",
      "\u001b[37m\u001b[1mTest Summary:                   | \u001b[22m\u001b[39m\u001b[32m\u001b[1mPass  \u001b[22m\u001b[39m\u001b[36m\u001b[1mTotal\u001b[22m\u001b[39m\n",
      "strand with invalid nucleotides | \u001b[32m   1  \u001b[39m\u001b[36m    1\u001b[39m\n"
     ]
    },
    {
     "data": {
      "text/plain": [
       "Test.DefaultTestSet(\"strand with invalid nucleotides\", Any[], 1, false)"
      ]
     },
     "execution_count": 39,
     "metadata": {},
     "output_type": "execute_result"
    }
   ],
   "source": [
    "using Test\n",
    "\n",
    "# include(\"nucleotide-count.jl\")\n",
    "\n",
    "@testset \"empty strand\" begin\n",
    "    @test count_nucleotides(\"\") == Dict('A' => 0, 'C' => 0, 'G' => 0, 'T' => 0)\n",
    "end\n",
    "\n",
    "@testset \"strang with one nucleotide in single-character input\" begin\n",
    "    @test count_nucleotides(\"G\") == Dict('A' => 0, 'C' => 0, 'G' => 1, 'T' => 0)\n",
    "end\n",
    "\n",
    "@testset \"strand with repeated nucleotide\" begin\n",
    "    @test count_nucleotides(\"GGGGGGG\") == Dict('A' => 0, 'C' => 0, 'G' => 7, 'T' => 0)\n",
    "end\n",
    "\n",
    "@testset \"strand with multiple nucleotides\" begin\n",
    "    @test count_nucleotides(\"AGCTTTTCATTCTGACTGCAACGGGCAATATGTCTCTGTGTGGATTAAAAAAAGAGTGTCTGATAGCAGC\") == Dict('A' => 20, 'C' => 12, 'G' => 17, 'T' => 21)\n",
    "end\n",
    "\n",
    "@testset \"strand with invalid nucleotides\" begin\n",
    "    @test_throws DomainError count_nucleotides(\"AGXXACT\")\n",
    "end"
   ]
  },
  {
   "cell_type": "markdown",
   "metadata": {},
   "source": [
    "## Prepare submission\n",
    "To submit your exercise, you need to save your solution in a file called `nucleotide-count.jl` before using the CLI.\n",
    "You can either create it manually or use the following functions, which will automatically write every notebook cell that starts with `# submit` to the file `nucleotide-count.jl`.\n"
   ]
  },
  {
   "cell_type": "code",
   "execution_count": 14,
   "metadata": {},
   "outputs": [
    {
     "name": "stderr",
     "output_type": "stream",
     "text": [
      "\u001b[32m\u001b[1m   Updating\u001b[22m\u001b[39m registry at `~/.julia/registries/General`\n",
      "######################################################################### 100.0%\n",
      "\u001b[32m\u001b[1m  Resolving\u001b[22m\u001b[39m package versions...\n",
      "\u001b[32m\u001b[1mNo Changes\u001b[22m\u001b[39m to `~/.julia/environments/v1.5/Project.toml`\n",
      "\u001b[32m\u001b[1mNo Changes\u001b[22m\u001b[39m to `~/.julia/environments/v1.5/Manifest.toml`\n"
     ]
    },
    {
     "data": {
      "text/plain": [
       "600"
      ]
     },
     "execution_count": 14,
     "metadata": {},
     "output_type": "execute_result"
    }
   ],
   "source": [
    "using Pkg; Pkg.add(\"Exercism\")\n",
    "using Exercism\n",
    "Exercism.create_submission(\"nucleotide-count\")"
   ]
  },
  {
   "cell_type": "code",
   "execution_count": null,
   "metadata": {},
   "outputs": [],
   "source": []
  }
 ],
 "metadata": {
  "kernelspec": {
   "display_name": "Julia 1.5.4",
   "language": "julia",
   "name": "julia-1.5"
  },
  "language_info": {
   "file_extension": ".jl",
   "mimetype": "application/julia",
   "name": "julia",
   "version": "1.5.4"
  }
 },
 "nbformat": 4,
 "nbformat_minor": 2
}
