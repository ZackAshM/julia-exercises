{
 "cells": [
  {
   "cell_type": "markdown",
   "metadata": {},
   "source": [
    "# Rotational Cipher\n",
    "\n",
    "Create an implementation of the rotational cipher, also sometimes called the Caesar cipher.\n",
    "\n",
    "The Caesar cipher is a simple shift cipher that relies on\n",
    "transposing all the letters in the alphabet using an integer key\n",
    "between `0` and `26`. Using a key of `0` or `26` will always yield\n",
    "the same output due to modular arithmetic. The letter is shifted\n",
    "for as many values as the value of the key.\n",
    "\n",
    "The general notation for rotational ciphers is `ROT + <key>`.\n",
    "The most commonly used rotational cipher is `ROT13`.\n",
    "\n",
    "A `ROT13` on the Latin alphabet would be as follows:\n",
    "\n",
    "```text\n",
    "Plain:  abcdefghijklmnopqrstuvwxyz\n",
    "Cipher: nopqrstuvwxyzabcdefghijklm\n",
    "```\n",
    "\n",
    "It is stronger than the Atbash cipher because it has 27 possible keys, and 25 usable keys.\n",
    "\n",
    "Ciphertext is written out in the same formatting as the input including spaces and punctuation.\n",
    "\n",
    "## Examples\n",
    "\n",
    "- ROT5  `omg` gives `trl`\n",
    "- ROT0  `c` gives `c`\n",
    "- ROT26 `Cool` gives `Cool`\n",
    "- ROT13 `The quick brown fox jumps over the lazy dog.` gives `Gur dhvpx oebja sbk whzcf bire gur ynml qbt.`\n",
    "- ROT13 `Gur dhvpx oebja sbk whzcf bire gur ynml qbt.` gives `The quick brown fox jumps over the lazy dog.`\n",
    "\n",
    "This is a good exercise to experiment with non-standard string literals and metaprogramming.\n",
    "\n",
    "A short introduction to non-standard string literals can be found in this [blog post](https://web.archive.org/web/20170625222109/https://iaindunning.com/blog/julia-unicode.html). A detailed metaprogramming guide can be found in the [manual](https://docs.julialang.org/en/v1/manual/metaprogramming/).\n",
    "\n",
    "You can extend your solution by adding the functionality described below.\n",
    "\n",
    "Bonus A only requires basics as outlined in the blog post. Bonus B requires significantly more knowledge of metaprogramming in Julia.\n",
    "\n",
    "## Bonus A\n",
    "Implement a string literal that acts as `ROT13` on the string:\n",
    "```julia\n",
    "R13\"abcdefghijklmnopqrstuvwxyz\" == \"nopqrstuvwxyzabcdefghijklm\"\n",
    "```\n",
    "\n",
    "## Bonus B\n",
    "Implement string literals `R<i>`, `i = 0, ..., 26`, that shift the string for `i` values:\n",
    "```julia\n",
    "R0\"Hello, World!\" == \"Hello, World!\"\n",
    "R4\"Testing 1 2 3 testing\" == \"Xiwxmrk 1 2 3 xiwxmrk\"\n",
    "R13\"abcdefghijklmnopqrstuvwxyz\" == \"nopqrstuvwxyzabcdefghijklm\"\n",
    "```\n",
    "\n",
    "## Source\n",
    "\n",
    "Wikipedia [https://en.wikipedia.org/wiki/Caesar_cipher](https://en.wikipedia.org/wiki/Caesar_cipher)\n",
    "\n",
    "## Version compatibility\n",
    "This exercise has been tested on Julia versions >=1.0.\n",
    "\n",
    "## Submitting Incomplete Solutions\n",
    "It's possible to submit an incomplete solution so you can see how others have completed the exercise."
   ]
  },
  {
   "cell_type": "markdown",
   "metadata": {},
   "source": [
    "## Your solution"
   ]
  },
  {
   "cell_type": "code",
   "execution_count": 73,
   "metadata": {},
   "outputs": [],
   "source": [
    "# submit\n",
    "\"\"\"\n",
    "        rotate_single(key::Int, input::Char)\n",
    "\n",
    "Implements the Caesar cipher for a single char input using a given key.\n",
    "\"\"\"\n",
    "function rotate_single(key::Int, input::Char)\n",
    "    alphabet = nothing ∈ indexin(input, collect('a':'z')) ? collect('A':'Z') : collect('a':'z')\n",
    "    return alphabet[(indexin(input, alphabet)[1] + key - 1) % 26 + 1]\n",
    "end\n",
    "\n",
    "\"\"\"\n",
    "        rotate(key, input::String)\n",
    "\n",
    "Implements the Caesar cipher for a string input using a given key.\n",
    "\"\"\"\n",
    "function rotate(key::Int, input::Union{String, Char})\n",
    "    out = join([isletter(input[i]) ? rotate_single(key, input[i]) : input[i] for i ∈ range(1, length=length(input))])\n",
    "    typeof(input) == Char && (out = out[1])\n",
    "    return out\n",
    "end\n",
    "\n",
    "# bonus A. string literal\n",
    "# macro R13_str(s)\n",
    "#     rotate(13, s)\n",
    "# end\n",
    "\n",
    "# bonus B. \n",
    "for i ∈ 0:26\n",
    "    @eval macro ($(Symbol(\"R$i\"*\"_str\")))(s); rotate($i, s); end\n",
    "end"
   ]
  },
  {
   "cell_type": "code",
   "execution_count": 78,
   "metadata": {},
   "outputs": [
    {
     "data": {
      "text/plain": [
       "\"Uryyb\""
      ]
     },
     "execution_count": 78,
     "metadata": {},
     "output_type": "execute_result"
    }
   ],
   "source": [
    "# f = 2\n",
    "# sym = Symbol(\"Q$f\"*\"_str\")\n",
    "# @eval macro ($sym(s)); rotate(2, s); end\n",
    "R13\"Hello\""
   ]
  },
  {
   "cell_type": "code",
   "execution_count": 94,
   "metadata": {},
   "outputs": [
    {
     "ename": "LoadError",
     "evalue": "LoadError: \u001b[91mUndefVarError: @R1_str not defined\u001b[39m\nin expression starting at In[94]:8",
     "output_type": "error",
     "traceback": [
      "LoadError: \u001b[91mUndefVarError: @R1_str not defined\u001b[39m\nin expression starting at In[94]:8",
      "",
      "Stacktrace:",
      " [1] top-level scope",
      " [2] include_string(::Function, ::Module, ::String, ::String) at ./loading.jl:1091"
     ]
    }
   ],
   "source": [
    "# a = join('a':'z')\n",
    "# a = \"hello world\"\n",
    "# rotate(2, \"ab\")\n",
    "# a[indexin('z', a)]\n",
    "# rotate_single(1, 'a')\n",
    "# a[1] = 'b'\n",
    "# foreach(print, range(1, length=length(a)))\n",
    "R1\"hello world\""
   ]
  },
  {
   "cell_type": "markdown",
   "metadata": {},
   "source": [
    "## Test suite"
   ]
  },
  {
   "cell_type": "code",
   "execution_count": 80,
   "metadata": {},
   "outputs": [
    {
     "name": "stdout",
     "output_type": "stream",
     "text": [
      "\u001b[37m\u001b[1mTest Summary:   | \u001b[22m\u001b[39m\u001b[32m\u001b[1mPass  \u001b[22m\u001b[39m\u001b[36m\u001b[1mTotal\u001b[22m\u001b[39m\n",
      "rotate function | \u001b[32m  15  \u001b[39m\u001b[36m   15\u001b[39m\n",
      "\u001b[37m\u001b[1mTest Summary:               | \u001b[22m\u001b[39m\u001b[32m\u001b[1mPass  \u001b[22m\u001b[39m\u001b[36m\u001b[1mTotal\u001b[22m\u001b[39m\n",
      "Bonus A: string literal R13 | \u001b[32m   1  \u001b[39m\u001b[36m    1\u001b[39m\n",
      "\u001b[37m\u001b[1mTest Summary:            | \u001b[22m\u001b[39m\u001b[32m\u001b[1mPass  \u001b[22m\u001b[39m\u001b[36m\u001b[1mTotal\u001b[22m\u001b[39m\n",
      "Bonus B: string literals | \u001b[32m   4  \u001b[39m\u001b[36m    4\u001b[39m\n"
     ]
    },
    {
     "data": {
      "text/plain": [
       "Test.DefaultTestSet(\"Bonus B: string literals\", Any[], 4, false)"
      ]
     },
     "execution_count": 80,
     "metadata": {},
     "output_type": "execute_result"
    }
   ],
   "source": [
    "using Test\n",
    "\n",
    "# include(\"rotational-cipher.jl\")\n",
    "\n",
    "@testset \"rotate function\" begin\n",
    "    @testset \"rotate by n\" begin\n",
    "        @testset \"no wrap\" begin\n",
    "            @test rotate(1, \"a\") == \"b\"\n",
    "            @test rotate(1, 'a') == 'b'\n",
    "            @test rotate(13, \"m\") == \"z\"\n",
    "            @test rotate(13, 'm') == 'z'\n",
    "        end\n",
    "        @testset \"wrap around\" begin\n",
    "            @test rotate(13, \"n\") == \"a\"\n",
    "            @test rotate(13, 'n') == 'a'\n",
    "        end\n",
    "    end\n",
    "\n",
    "    @testset \"full rotation\" begin\n",
    "        @test rotate(26, \"a\") == \"a\"\n",
    "        @test rotate(26, 'a') == 'a'\n",
    "        @test rotate(0, \"a\") == \"a\"\n",
    "        @test rotate(0, 'a') == 'a'\n",
    "    end\n",
    "\n",
    "    @testset \"full strings\" begin\n",
    "        @test rotate(5, \"OMG\") == \"TRL\"\n",
    "        @test rotate(5, \"O M G\") == \"T R L\"\n",
    "        @test rotate(4, \"Testing 1 2 3 testing\") == \"Xiwxmrk 1 2 3 xiwxmrk\"\n",
    "        @test rotate(21, \"Let's eat, Grandma!\") == \"Gzo'n zvo, Bmviyhv!\"\n",
    "        @test rotate(13, \"The quick brown fox jumps over the lazy dog.\") == \"Gur dhvpx oebja sbk whzcf bire gur ynml qbt.\"\n",
    "    end\n",
    "end\n",
    "\n",
    "# # # # # # # # # # # # # # # # # # # # # # # # # # # # # # # # # # # # # # # #\n",
    "# Additional exercises                                                        #\n",
    "# # # # # # # # # # # # # # # # # # # # # # # # # # # # # # # # # # # # # # # #\n",
    "\n",
    "# Bonus A\n",
    "if isdefined(Main, Symbol(\"@R13_str\"))\n",
    "    @eval @testset \"Bonus A: string literal R13\" begin\n",
    "        @test R13\"The quick brown fox jumps over the lazy dog.\" == \"Gur dhvpx oebja sbk whzcf bire gur ynml qbt.\"\n",
    "    end\n",
    "end\n",
    "\n",
    "# Bonus B\n",
    "if isdefined(Main, Symbol(\"@R1_str\"))\n",
    "    @eval @testset \"Bonus B: string literals\" begin\n",
    "        @test R5\"OMG\" == \"TRL\"\n",
    "        @test R4\"Testing 1 2 3 testing\" == \"Xiwxmrk 1 2 3 xiwxmrk\"\n",
    "        @test R21\"Let's eat, Grandma!\" == \"Gzo'n zvo, Bmviyhv!\"\n",
    "        @test R13\"The quick brown fox jumps over the lazy dog.\" == \"Gur dhvpx oebja sbk whzcf bire gur ynml qbt.\"\n",
    "    end\n",
    "end"
   ]
  },
  {
   "cell_type": "markdown",
   "metadata": {},
   "source": [
    "## Prepare submission\n",
    "To submit your exercise, you need to save your solution in a file called `rotational-cipher.jl` before using the CLI.\n",
    "You can either create it manually or use the following functions, which will automatically write every notebook cell that starts with `# submit` to the file `rotational-cipher.jl`.\n"
   ]
  },
  {
   "cell_type": "code",
   "execution_count": 6,
   "metadata": {},
   "outputs": [
    {
     "name": "stderr",
     "output_type": "stream",
     "text": [
      "\u001b[32m\u001b[1m   Updating\u001b[22m\u001b[39m registry at `~/.julia/registries/General`\n",
      "######################################################################### 100.0%\n",
      "\u001b[32m\u001b[1m  Resolving\u001b[22m\u001b[39m package versions...\n",
      "\u001b[32m\u001b[1mNo Changes\u001b[22m\u001b[39m to `~/.julia/environments/v1.5/Project.toml`\n",
      "\u001b[32m\u001b[1mNo Changes\u001b[22m\u001b[39m to `~/.julia/environments/v1.5/Manifest.toml`\n"
     ]
    },
    {
     "data": {
      "text/plain": [
       "827"
      ]
     },
     "execution_count": 6,
     "metadata": {},
     "output_type": "execute_result"
    }
   ],
   "source": [
    "using Pkg; Pkg.add(\"Exercism\")\n",
    "using Exercism\n",
    "Exercism.create_submission(\"rotational-cipher\")"
   ]
  },
  {
   "cell_type": "code",
   "execution_count": null,
   "metadata": {},
   "outputs": [],
   "source": []
  }
 ],
 "metadata": {
  "kernelspec": {
   "display_name": "Julia 1.5.4",
   "language": "julia",
   "name": "julia-1.5"
  },
  "language_info": {
   "file_extension": ".jl",
   "mimetype": "application/julia",
   "name": "julia",
   "version": "1.5.4"
  }
 },
 "nbformat": 4,
 "nbformat_minor": 2
}
