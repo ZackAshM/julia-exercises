{
 "cells": [
  {
   "cell_type": "markdown",
   "metadata": {},
   "source": [
    "# Raindrops\n",
    "\n",
    "Your task is to convert a number into a string that contains raindrop sounds corresponding to certain potential factors. A factor is a number that evenly divides into another number, leaving no remainder. The simplest way to test if a one number is a factor of another is to use the [modulo operation](https://en.wikipedia.org/wiki/Modulo_operation).\n",
    "\n",
    "The rules of `raindrops` are that if a given number:\n",
    "\n",
    "- has 3 as a factor, add 'Pling' to the result.\n",
    "- has 5 as a factor, add 'Plang' to the result.\n",
    "- has 7 as a factor, add 'Plong' to the result.\n",
    "- _does not_ have any of 3, 5, or 7 as a factor, the result should be the digits of the number.\n",
    "\n",
    "## Examples\n",
    "\n",
    "- 28 has 7 as a factor, but not 3 or 5, so the result would be \"Plong\".\n",
    "- 30 has both 3 and 5 as factors, but not 7, so the result would be \"PlingPlang\".\n",
    "- 34 is not factored by 3, 5, or 7, so the result would be \"34\".\n",
    "\n",
    "## Source\n",
    "\n",
    "A variation on FizzBuzz, a famous technical interview question that is intended to weed out potential candidates. That question is itself derived from Fizz Buzz, a popular children's game for teaching division. [https://en.wikipedia.org/wiki/Fizz_buzz](https://en.wikipedia.org/wiki/Fizz_buzz)\n",
    "\n",
    "## Version compatibility\n",
    "This exercise has been tested on Julia versions >=1.0.\n",
    "\n",
    "## Submitting Incomplete Solutions\n",
    "It's possible to submit an incomplete solution so you can see how others have completed the exercise."
   ]
  },
  {
   "cell_type": "markdown",
   "metadata": {},
   "source": [
    "## Your solution"
   ]
  },
  {
   "cell_type": "code",
   "execution_count": 11,
   "metadata": {},
   "outputs": [
    {
     "data": {
      "text/plain": [
       "raindrops"
      ]
     },
     "execution_count": 11,
     "metadata": {},
     "output_type": "execute_result"
    }
   ],
   "source": [
    "# submit\n",
    "\"\"\"\n",
    "        raindrops(number)::AbstractString\n",
    "\n",
    "Returns a string according to the following:\n",
    "    has 3 as a factor, add 'Pling' to the result.\n",
    "    has 5 as a factor, add 'Plang' to the result.\n",
    "    has 7 as a factor, add 'Plong' to the result.\n",
    "    does not have any of 3, 5, or 7 as a factor, the result should be the digits of the number.\n",
    "\"\"\"\n",
    "function raindrops(number)::AbstractString\n",
    "    s = \"\"\n",
    "    number % 3 == 0 && (s *= \"Pling\")\n",
    "    number % 5 == 0 && (s *= \"Plang\")\n",
    "    number % 7 == 0 && (s *= \"Plong\")\n",
    "    return isempty(s) ? string(number) : s\n",
    "end"
   ]
  },
  {
   "cell_type": "code",
   "execution_count": 5,
   "metadata": {},
   "outputs": [
    {
     "data": {
      "text/plain": [
       "\"Hi\""
      ]
     },
     "execution_count": 5,
     "metadata": {},
     "output_type": "execute_result"
    }
   ],
   "source": [
    "isempty(\"\")\n",
    "string(34)\n",
    "foo = \"\"\n",
    "foo *= \"Hi\""
   ]
  },
  {
   "cell_type": "markdown",
   "metadata": {},
   "source": [
    "## Test suite"
   ]
  },
  {
   "cell_type": "code",
   "execution_count": 12,
   "metadata": {},
   "outputs": [
    {
     "name": "stdout",
     "output_type": "stream",
     "text": [
      "\u001b[37m\u001b[1mTest Summary:  | \u001b[22m\u001b[39m\u001b[32m\u001b[1mPass  \u001b[22m\u001b[39m\u001b[36m\u001b[1mTotal\u001b[22m\u001b[39m\n",
      "detect numbers | \u001b[32m   3  \u001b[39m\u001b[36m    3\u001b[39m\n",
      "\u001b[37m\u001b[1mTest Summary: | \u001b[22m\u001b[39m\u001b[32m\u001b[1mPass  \u001b[22m\u001b[39m\u001b[36m\u001b[1mTotal\u001b[22m\u001b[39m\n",
      "detect pling  | \u001b[32m   4  \u001b[39m\u001b[36m    4\u001b[39m\n",
      "\u001b[37m\u001b[1mTest Summary: | \u001b[22m\u001b[39m\u001b[32m\u001b[1mPass  \u001b[22m\u001b[39m\u001b[36m\u001b[1mTotal\u001b[22m\u001b[39m\n",
      "detect plang  | \u001b[32m   4  \u001b[39m\u001b[36m    4\u001b[39m\n",
      "\u001b[37m\u001b[1mTest Summary: | \u001b[22m\u001b[39m\u001b[32m\u001b[1mPass  \u001b[22m\u001b[39m\u001b[36m\u001b[1mTotal\u001b[22m\u001b[39m\n",
      "detect plong  | \u001b[32m   3  \u001b[39m\u001b[36m    3\u001b[39m\n",
      "\u001b[37m\u001b[1mTest Summary:          | \u001b[22m\u001b[39m\u001b[32m\u001b[1mPass  \u001b[22m\u001b[39m\u001b[36m\u001b[1mTotal\u001b[22m\u001b[39m\n",
      "detect multiple sounds | \u001b[32m   4  \u001b[39m\u001b[36m    4\u001b[39m\n"
     ]
    },
    {
     "data": {
      "text/plain": [
       "Test.DefaultTestSet(\"detect multiple sounds\", Any[Test.DefaultTestSet(\"the sound for 15 is PlingPlang as it has factors 3 and 5\", Any[], 1, false), Test.DefaultTestSet(\"the sound for 21 is PlingPlong as it has factors 3 and 7\", Any[], 1, false), Test.DefaultTestSet(\"the sound for 35 is PlangPlong as it has factors 5 and 7\", Any[], 1, false), Test.DefaultTestSet(\"the sound for 105 is PlingPlangPlong as it has factors 3, 5 and 7\", Any[], 1, false)], 0, false)"
      ]
     },
     "execution_count": 12,
     "metadata": {},
     "output_type": "execute_result"
    }
   ],
   "source": [
    "using Test\n",
    "\n",
    "# include(\"raindrops.jl\")\n",
    "\n",
    "@testset \"detect numbers\" begin\n",
    "    @testset \"the sound for 1 is 1\" begin\n",
    "      @test raindrops(1) == \"1\"\n",
    "    end\n",
    "    @testset \"2 to the power 3 does not make a raindrop sound as 3 is the exponent not the base\" begin\n",
    "      @test raindrops(8) == \"8\"\n",
    "    end\n",
    "    @testset \"the sound for 52 is 52\" begin\n",
    "      @test raindrops(52) == \"52\"\n",
    "    end\n",
    "end\n",
    "\n",
    "@testset \"detect pling\" begin\n",
    "    @testset \"the sound for 3 is Pling\" begin\n",
    "      @test raindrops(3) == \"Pling\"\n",
    "    end\n",
    "    @testset \"the sound for 6 is Pling as it has a factor 3\" begin\n",
    "      @test raindrops(6) == \"Pling\"\n",
    "    end\n",
    "    @testset \"the sound for 9 is Pling as it has a factor 3\" begin\n",
    "      @test raindrops(9) == \"Pling\"\n",
    "    end\n",
    "    @testset \"the sound for 27 is Pling as it has a factor 3\" begin\n",
    "      @test raindrops(27) == \"Pling\"\n",
    "    end\n",
    "end\n",
    "\n",
    "@testset \"detect plang\" begin\n",
    "    @testset \"the sound for 5 is Plang\" begin\n",
    "      @test raindrops(5) == \"Plang\"\n",
    "    end\n",
    "    @testset \"the sound for 10 is Plang as it has a factor 5\" begin\n",
    "      @test raindrops(10) == \"Plang\"\n",
    "    end\n",
    "    @testset \"the sound for 25 is Plang as it has a factor 5\" begin\n",
    "      @test raindrops(25) == \"Plang\"\n",
    "    end\n",
    "    @testset \"the sound for 3125 is Plang as it has a factor 5\" begin\n",
    "      @test raindrops(3125) == \"Plang\"\n",
    "    end\n",
    "end\n",
    "\n",
    "@testset \"detect plong\" begin\n",
    "    @testset \"the sound for 7 is Plong\" begin\n",
    "      @test raindrops(7) == \"Plong\"\n",
    "    end\n",
    "    @testset \"the sound for 14 is Plong as it has a factor of 7\" begin\n",
    "      @test raindrops(14) == \"Plong\"\n",
    "    end\n",
    "    @testset \"the sound for 49 is Plong as it has a factor 7\" begin\n",
    "      @test raindrops(49) == \"Plong\"\n",
    "    end\n",
    "end\n",
    "\n",
    "@testset \"detect multiple sounds\" begin\n",
    "    @testset \"the sound for 15 is PlingPlang as it has factors 3 and 5\" begin\n",
    "      @test raindrops(15) == \"PlingPlang\"\n",
    "    end\n",
    "    @testset \"the sound for 21 is PlingPlong as it has factors 3 and 7\" begin\n",
    "      @test raindrops(21) == \"PlingPlong\"\n",
    "    end\n",
    "    @testset \"the sound for 35 is PlangPlong as it has factors 5 and 7\" begin\n",
    "      @test raindrops(35) == \"PlangPlong\"\n",
    "    end\n",
    "    @testset \"the sound for 105 is PlingPlangPlong as it has factors 3, 5 and 7\" begin\n",
    "      @test raindrops(105) == \"PlingPlangPlong\"\n",
    "    end\n",
    "end"
   ]
  },
  {
   "cell_type": "markdown",
   "metadata": {},
   "source": [
    "## Prepare submission\n",
    "To submit your exercise, you need to save your solution in a file called `raindrops.jl` before using the CLI.\n",
    "You can either create it manually or use the following functions, which will automatically write every notebook cell that starts with `# submit` to the file `raindrops.jl`.\n"
   ]
  },
  {
   "cell_type": "code",
   "execution_count": 10,
   "metadata": {},
   "outputs": [
    {
     "name": "stderr",
     "output_type": "stream",
     "text": [
      "\u001b[32m\u001b[1m   Updating\u001b[22m\u001b[39m registry at `~/.julia/registries/General`\n",
      "######################################################################### 100.0%\n",
      "\u001b[32m\u001b[1m  Resolving\u001b[22m\u001b[39m package versions...\n",
      "\u001b[32m\u001b[1mNo Changes\u001b[22m\u001b[39m to `~/.julia/environments/v1.5/Project.toml`\n",
      "\u001b[32m\u001b[1mNo Changes\u001b[22m\u001b[39m to `~/.julia/environments/v1.5/Manifest.toml`\n"
     ]
    },
    {
     "data": {
      "text/plain": [
       "565"
      ]
     },
     "execution_count": 10,
     "metadata": {},
     "output_type": "execute_result"
    }
   ],
   "source": [
    "using Pkg; Pkg.add(\"Exercism\")\n",
    "using Exercism\n",
    "Exercism.create_submission(\"raindrops\")"
   ]
  },
  {
   "cell_type": "code",
   "execution_count": null,
   "metadata": {},
   "outputs": [],
   "source": []
  }
 ],
 "metadata": {
  "kernelspec": {
   "display_name": "Julia 1.5.4",
   "language": "julia",
   "name": "julia-1.5"
  },
  "language_info": {
   "file_extension": ".jl",
   "mimetype": "application/julia",
   "name": "julia",
   "version": "1.5.4"
  }
 },
 "nbformat": 4,
 "nbformat_minor": 2
}
