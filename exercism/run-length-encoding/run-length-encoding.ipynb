{
 "cells": [
  {
   "cell_type": "markdown",
   "metadata": {},
   "source": [
    "# Run Length Encoding\n",
    "\n",
    "Implement run-length encoding and decoding.\n",
    "\n",
    "Run-length encoding (RLE) is a simple form of data compression, where runs\n",
    "(consecutive data elements) are replaced by just one data value and count.\n",
    "\n",
    "For example we can represent the original 53 characters with only 13.\n",
    "\n",
    "```text\n",
    "\"WWWWWWWWWWWWBWWWWWWWWWWWWBBBWWWWWWWWWWWWWWWWWWWWWWWWB\"  ->  \"12WB12W3B24WB\"\n",
    "```\n",
    "\n",
    "RLE allows the original data to be perfectly reconstructed from\n",
    "the compressed data, which makes it a lossless data compression.\n",
    "\n",
    "```text\n",
    "\"AABCCCDEEEE\"  ->  \"2AB3CD4E\"  ->  \"AABCCCDEEEE\"\n",
    "```\n",
    "\n",
    "For simplicity, you can assume that the unencoded string will only contain\n",
    "the letters A through Z (either lower or upper case) and whitespace. This way\n",
    "data to be encoded will never contain any numbers and numbers inside data to\n",
    "be decoded always represent the count for the following character.\n",
    "\n",
    "## Source\n",
    "\n",
    "Wikipedia [https://en.wikipedia.org/wiki/Run-length_encoding](https://en.wikipedia.org/wiki/Run-length_encoding)\n",
    "\n",
    "## Version compatibility\n",
    "This exercise has been tested on Julia versions >=1.0.\n",
    "\n",
    "## Submitting Incomplete Solutions\n",
    "It's possible to submit an incomplete solution so you can see how others have completed the exercise."
   ]
  },
  {
   "cell_type": "markdown",
   "metadata": {},
   "source": [
    "## Your solution"
   ]
  },
  {
   "cell_type": "code",
   "execution_count": null,
   "metadata": {},
   "outputs": [],
   "source": [
    "# first try\n",
    "\"\"\"\n",
    "    encode(s)\n",
    "\n",
    "Performs Run-length encoding on string s.\n",
    "\n",
    "\"\"\"\n",
    "# function encode(s)\n",
    "#     code = \"\"\n",
    "#     letters = unique(s)\n",
    "#     foreach(l -> code = join([code, count(c -> c == l, s), l]), letters)\n",
    "#     return code\n",
    "# end\n",
    "function encode(s)\n",
    "    length(s) == 0 && return \"\"\n",
    "    code = \"\"\n",
    "    letter_count = 0\n",
    "    letter_change = s[begin]\n",
    "    letters = unique(s)\n",
    "    for l ∈ s\n",
    "        if letter_change == l\n",
    "            letter_count += 1\n",
    "        else\n",
    "            code = join([code, letter_count == 1 ? \"\" : letter_count, letter_change])\n",
    "            letter_count = 1\n",
    "            letter_change = l\n",
    "        end\n",
    "    end\n",
    "    code = join([code, letter_count == 1 ? \"\" : letter_count, letter_change])\n",
    "    return code\n",
    "end\n",
    "\n",
    "\n",
    "\"\"\"with\n",
    "    decode(s)\n",
    "\n",
    "Performs Run-length decoding on string s.\n",
    "\n",
    "\"\"\"\n",
    "function decode(s)\n",
    "    letters = [l for l ∈ s if isletter(l)]\n",
    "    number = \"0\"\n",
    "    for c ∈ s\n",
    "        numbers = split(join([isnumeric(n) ? n : \";\" for n ∈ s]), ';')\n",
    "    return join([l^parse(Int, n) for (l,n) ∈ zip(letters, numbers)])\n",
    "end"
   ]
  },
  {
   "cell_type": "code",
   "execution_count": 146,
   "metadata": {},
   "outputs": [
    {
     "data": {
      "text/plain": [
       "decode"
      ]
     },
     "execution_count": 146,
     "metadata": {},
     "output_type": "execute_result"
    }
   ],
   "source": [
    "# submit\n",
    "\"\"\"\n",
    "    encode(s)\n",
    "\n",
    "Performs Run-length encoding on string s.\n",
    "\n",
    "\"\"\"\n",
    "function encode(s)\n",
    "    # replace every repeating char by length and char\n",
    "    replace(s, r\"(.)\\1+\" => x -> string(length(x) == 1 ? \"\" : length(x)) * x[begin])\n",
    "end\n",
    "\n",
    "\"\"\"\n",
    "    decode(s)\n",
    "\n",
    "Performs Run-length decoding on string s.\n",
    "\n",
    "\"\"\"\n",
    "function decode(s)\n",
    "    # replace every number and char with char repeated number times\n",
    "    replace(s, r\"\\d+.\" => x -> x[end] ^ parse(Int, x[begin:end-1]))\n",
    "end"
   ]
  },
  {
   "cell_type": "code",
   "execution_count": 145,
   "metadata": {},
   "outputs": [
    {
     "data": {
      "text/plain": [
       "\"2AB2W3F2X5CY3 2Y2W\""
      ]
     },
     "execution_count": 145,
     "metadata": {},
     "output_type": "execute_result"
    }
   ],
   "source": [
    "s = \"AABWWFFFXXCCCCCY   YYWW\"\n",
    "replace(s, r\"(.)\\1+\" => x -> string(length(x) == 1 ? \"\" : length(x)) * x[begin])\n",
    "# string(3)"
   ]
  },
  {
   "cell_type": "code",
   "execution_count": 137,
   "metadata": {
    "scrolled": true
   },
   "outputs": [
    {
     "data": {
      "text/plain": [
       "\"AABWWFFFXXCCCCCY   YYWW\""
      ]
     },
     "execution_count": 137,
     "metadata": {},
     "output_type": "execute_result"
    }
   ],
   "source": [
    "s = \"AABWWFFFXXCCCCCY   YYWW\"\n",
    "encode(s)\n",
    "\n",
    "decode(encode(s))\n",
    "\n",
    "# s = \"3W5B\"\n",
    "# letters = [l for l ∈ s if isletter(l)]\n",
    "# decode(encode(s))\n",
    "# num = split(join([isnumeric(n) ? n : \";\" for n ∈ s]), ';')\n",
    "# join([l^parse(Int, n) for (l,n) ∈ zip(['B', 'W'], ['4', '2'])])"
   ]
  },
  {
   "cell_type": "markdown",
   "metadata": {},
   "source": [
    "## Test suite"
   ]
  },
  {
   "cell_type": "code",
   "execution_count": 147,
   "metadata": {},
   "outputs": [
    {
     "name": "stdout",
     "output_type": "stream",
     "text": [
      "\u001b[37m\u001b[1mTest Summary:  | \u001b[22m\u001b[39m\u001b[32m\u001b[1mPass  \u001b[22m\u001b[39m\u001b[36m\u001b[1mTotal\u001b[22m\u001b[39m\n",
      "encode strings | \u001b[32m   6  \u001b[39m\u001b[36m    6\u001b[39m\n",
      "\u001b[37m\u001b[1mTest Summary:  | \u001b[22m\u001b[39m\u001b[32m\u001b[1mPass  \u001b[22m\u001b[39m\u001b[36m\u001b[1mTotal\u001b[22m\u001b[39m\n",
      "decode strings | \u001b[32m   6  \u001b[39m\u001b[36m    6\u001b[39m\n",
      "\u001b[37m\u001b[1mTest Summary:      | \u001b[22m\u001b[39m\u001b[32m\u001b[1mPass  \u001b[22m\u001b[39m\u001b[36m\u001b[1mTotal\u001b[22m\u001b[39m\n",
      "encode then decode | \u001b[32m   1  \u001b[39m\u001b[36m    1\u001b[39m\n"
     ]
    },
    {
     "data": {
      "text/plain": [
       "Test.DefaultTestSet(\"encode then decode\", Any[], 1, false)"
      ]
     },
     "execution_count": 147,
     "metadata": {},
     "output_type": "execute_result"
    }
   ],
   "source": [
    "using Test\n",
    "\n",
    "# include(\"run-length-encoding.jl\")\n",
    "\n",
    "\n",
    "# Tests adapted from `problem-specifications//canonical-data.json` @ v1.0.0\n",
    "# Encode and decode the strings under the given specifications.\n",
    "\n",
    "@testset \"encode strings\" begin\n",
    "    @test encode(\"\") == \"\"\n",
    "    @test encode(\"XYZ\") == \"XYZ\"\n",
    "    @test encode(\"AABBBCCCC\") == \"2A3B4C\"\n",
    "    @test encode(\"WWWWWWWWWWWWBWWWWWWWWWWWWBBBWWWWWWWWWWWWWWWWWWWWWWWWB\") == \"12WB12W3B24WB\"\n",
    "    @test encode(\"aabbbcccc\") == \"2a3b4c\"\n",
    "    @test encode(\"  hsqq qww  \") == \"2 hs2q q2w2 \"\n",
    "end\n",
    "\n",
    "@testset \"decode strings\" begin\n",
    "    @test decode(\"\") == \"\"\n",
    "    @test decode(\"XYZ\") == \"XYZ\"\n",
    "    @test decode(\"2A3B4C\") == \"AABBBCCCC\"\n",
    "    @test decode(\"12WB12W3B24WB\") == \"WWWWWWWWWWWWBWWWWWWWWWWWWBBBWWWWWWWWWWWWWWWWWWWWWWWWB\"\n",
    "    @test decode(\"2a3b4c\") == \"aabbbcccc\"\n",
    "    @test decode(\"2 hs2q q2w2 \") == \"  hsqq qww  \"\n",
    "end\n",
    "\n",
    "@testset \"encode then decode\" begin\n",
    "    @test decode(encode(\"zzz ZZ  zZ\")) == \"zzz ZZ  zZ\"\n",
    "end"
   ]
  },
  {
   "cell_type": "markdown",
   "metadata": {},
   "source": [
    "## Prepare submission\n",
    "To submit your exercise, you need to save your solution in a file called `run-length-encoding.jl` before using the CLI.\n",
    "You can either create it manually or use the following functions, which will automatically write every notebook cell that starts with `# submit` to the file `run-length-encoding.jl`.\n"
   ]
  },
  {
   "cell_type": "code",
   "execution_count": 149,
   "metadata": {},
   "outputs": [
    {
     "name": "stderr",
     "output_type": "stream",
     "text": [
      "\u001b[32m\u001b[1m  Resolving\u001b[22m\u001b[39m package versions...\n",
      "\u001b[32m\u001b[1mNo Changes\u001b[22m\u001b[39m to `~/.julia/environments/v1.5/Project.toml`\n",
      "\u001b[32m\u001b[1mNo Changes\u001b[22m\u001b[39m to `~/.julia/environments/v1.5/Manifest.toml`\n"
     ]
    },
    {
     "data": {
      "text/plain": [
       "453"
      ]
     },
     "execution_count": 149,
     "metadata": {},
     "output_type": "execute_result"
    }
   ],
   "source": [
    "using Pkg; Pkg.add(\"Exercism\")\n",
    "using Exercism\n",
    "Exercism.create_submission(\"run-length-encoding\")"
   ]
  },
  {
   "cell_type": "code",
   "execution_count": null,
   "metadata": {},
   "outputs": [],
   "source": []
  }
 ],
 "metadata": {
  "kernelspec": {
   "display_name": "Julia 1.5.4",
   "language": "julia",
   "name": "julia-1.5"
  },
  "language_info": {
   "file_extension": ".jl",
   "mimetype": "application/julia",
   "name": "julia",
   "version": "1.5.4"
  }
 },
 "nbformat": 4,
 "nbformat_minor": 2
}
