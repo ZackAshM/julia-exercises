{
 "cells": [
  {
   "cell_type": "markdown",
   "metadata": {},
   "source": [
    "# Difference Of Squares\n",
    "\n",
    "Find the difference between the square of the sum and the sum of the squares of the first N natural numbers.\n",
    "\n",
    "The square of the sum of the first ten natural numbers is\n",
    "(1 + 2 + ... + 10)² = 55² = 3025.\n",
    "\n",
    "The sum of the squares of the first ten natural numbers is\n",
    "1² + 2² + ... + 10² = 385.\n",
    "\n",
    "Hence the difference between the square of the sum of the first\n",
    "ten natural numbers and the sum of the squares of the first ten\n",
    "natural numbers is 3025 - 385 = 2640.\n",
    "\n",
    "You are not expected to discover an efficient solution to this yourself from\n",
    "first principles; research is allowed, indeed, encouraged. Finding the best\n",
    "algorithm for the problem is a key skill in software engineering.\n",
    "\n",
    "## Source\n",
    "\n",
    "Problem 6 at Project Euler [http://projecteuler.net/problem=6](http://projecteuler.net/problem=6)\n",
    "\n",
    "## Version compatibility\n",
    "This exercise has been tested on Julia versions >=1.0.\n",
    "\n",
    "## Submitting Incomplete Solutions\n",
    "It's possible to submit an incomplete solution so you can see how others have completed the exercise."
   ]
  },
  {
   "cell_type": "markdown",
   "metadata": {},
   "source": [
    "## Your solution"
   ]
  },
  {
   "cell_type": "code",
   "execution_count": 10,
   "metadata": {},
   "outputs": [
    {
     "data": {
      "text/plain": [
       "difference"
      ]
     },
     "execution_count": 10,
     "metadata": {},
     "output_type": "execute_result"
    }
   ],
   "source": [
    "# first try\n",
    "\"Square the sum of the first `n` positive integers\"\n",
    "function square_of_sum(n)\n",
    "    return sum([i for i ∈ 1:n])^2\n",
    "end\n",
    "\n",
    "\"Sum the squares of the first `n` positive integers\"\n",
    "function sum_of_squares(n)\n",
    "    return sum([i^2 for i ∈ 1:n])\n",
    "end\n",
    "\n",
    "\"Subtract the sum of squares from square of the sum of the first `n` positive ints\"\n",
    "function difference(n)\n",
    "    return square_of_sum(n) - sum_of_squares(n)\n",
    "end"
   ]
  },
  {
   "cell_type": "code",
   "execution_count": 19,
   "metadata": {},
   "outputs": [
    {
     "data": {
      "text/plain": [
       "difference"
      ]
     },
     "execution_count": 19,
     "metadata": {},
     "output_type": "execute_result"
    }
   ],
   "source": [
    "# submit\n",
    "\"Square the sum of the first `n` positive integers\"\n",
    "function square_of_sum(n)::Int\n",
    "    return (n * (n+1) / 2)^2\n",
    "end\n",
    "\n",
    "\"Sum the squares of the first `n` positive integers\"\n",
    "function sum_of_squares(n)::Int\n",
    "    return n * (n + 1) * (2*n + 1) / 6\n",
    "end\n",
    "\n",
    "\"Subtract the sum of squares from square of the sum of the first `n` positive ints\"\n",
    "function difference(n)::Int\n",
    "    return square_of_sum(n) - sum_of_squares(n)\n",
    "end"
   ]
  },
  {
   "cell_type": "code",
   "execution_count": 20,
   "metadata": {},
   "outputs": [
    {
     "name": "stdout",
     "output_type": "stream",
     "text": [
      "36\n",
      "14\n",
      "22\n"
     ]
    }
   ],
   "source": [
    "sum([1,2,3])\n",
    "println(square_of_sum(3))\n",
    "println(sum_of_squares(3))\n",
    "println(difference(3))"
   ]
  },
  {
   "cell_type": "markdown",
   "metadata": {},
   "source": [
    "## Test suite"
   ]
  },
  {
   "cell_type": "code",
   "execution_count": 21,
   "metadata": {},
   "outputs": [
    {
     "name": "stdout",
     "output_type": "stream",
     "text": [
      "\u001b[37m\u001b[1mTest Summary:                                        | \u001b[22m\u001b[39m\u001b[32m\u001b[1mPass  \u001b[22m\u001b[39m\u001b[36m\u001b[1mTotal\u001b[22m\u001b[39m\n",
      "Square the sum of the numbers up to the given number | \u001b[32m   4  \u001b[39m\u001b[36m    4\u001b[39m\n",
      "\u001b[37m\u001b[1mTest Summary:                                         | \u001b[22m\u001b[39m\u001b[32m\u001b[1mPass  \u001b[22m\u001b[39m\u001b[36m\u001b[1mTotal\u001b[22m\u001b[39m\n",
      "Sum the squares of the numbers up to the given number | \u001b[32m   4  \u001b[39m\u001b[36m    4\u001b[39m\n",
      "\u001b[37m\u001b[1mTest Summary:                               | \u001b[22m\u001b[39m\u001b[32m\u001b[1mPass  \u001b[22m\u001b[39m\u001b[36m\u001b[1mTotal\u001b[22m\u001b[39m\n",
      "Subtract sum of squares from square of sums | \u001b[32m   5  \u001b[39m\u001b[36m    5\u001b[39m\n"
     ]
    },
    {
     "data": {
      "text/plain": [
       "Test.DefaultTestSet(\"Subtract sum of squares from square of sums\", Any[], 5, false)"
      ]
     },
     "execution_count": 21,
     "metadata": {},
     "output_type": "execute_result"
    }
   ],
   "source": [
    "using Test\n",
    "\n",
    "# include(\"difference-of-squares.jl\")\n",
    "\n",
    "@testset \"Square the sum of the numbers up to the given number\" begin\n",
    "    @test square_of_sum(1)::Integer == 1\n",
    "    @test square_of_sum(5)::Integer == 225\n",
    "    @test square_of_sum(10)::Integer == 3025\n",
    "    @test square_of_sum(100)::Integer == 25502500\n",
    "end\n",
    "\n",
    "@testset \"Sum the squares of the numbers up to the given number\" begin\n",
    "    @test sum_of_squares(1)::Integer == 1\n",
    "    @test sum_of_squares(5)::Integer == 55\n",
    "    @test sum_of_squares(10)::Integer == 385\n",
    "    @test sum_of_squares(100)::Integer == 338350\n",
    "end\n",
    "\n",
    "@testset \"Subtract sum of squares from square of sums\" begin\n",
    "    @test difference(0)::Integer == 0\n",
    "    @test difference(1)::Integer == 0\n",
    "    @test difference(5)::Integer == 170\n",
    "    @test difference(10)::Integer == 2640\n",
    "    @test difference(100)::Integer == 25164150\n",
    "end"
   ]
  },
  {
   "cell_type": "markdown",
   "metadata": {},
   "source": [
    "## Prepare submission\n",
    "To submit your exercise, you need to save your solution in a file called `difference-of-squares.jl` before using the CLI.\n",
    "You can either create it manually or use the following functions, which will automatically write every notebook cell that starts with `# submit` to the file `difference-of-squares.jl`.\n"
   ]
  },
  {
   "cell_type": "code",
   "execution_count": 13,
   "metadata": {},
   "outputs": [
    {
     "name": "stderr",
     "output_type": "stream",
     "text": [
      "\u001b[32m\u001b[1m   Updating\u001b[22m\u001b[39m registry at `~/.julia/registries/General`\n",
      "######################################################################### 100.0%\n",
      "\u001b[32m\u001b[1m  Resolving\u001b[22m\u001b[39m package versions...\n",
      "\u001b[32m\u001b[1mNo Changes\u001b[22m\u001b[39m to `~/.julia/environments/v1.5/Project.toml`\n",
      "\u001b[32m\u001b[1mNo Changes\u001b[22m\u001b[39m to `~/.julia/environments/v1.5/Manifest.toml`\n"
     ]
    },
    {
     "data": {
      "text/plain": [
       "398"
      ]
     },
     "execution_count": 13,
     "metadata": {},
     "output_type": "execute_result"
    }
   ],
   "source": [
    "using Pkg; Pkg.add(\"Exercism\")\n",
    "using Exercism\n",
    "Exercism.create_submission(\"difference-of-squares\")"
   ]
  },
  {
   "cell_type": "code",
   "execution_count": null,
   "metadata": {},
   "outputs": [],
   "source": []
  }
 ],
 "metadata": {
  "kernelspec": {
   "display_name": "Julia 1.5.4",
   "language": "julia",
   "name": "julia-1.5"
  },
  "language_info": {
   "file_extension": ".jl",
   "mimetype": "application/julia",
   "name": "julia",
   "version": "1.5.4"
  }
 },
 "nbformat": 4,
 "nbformat_minor": 2
}
