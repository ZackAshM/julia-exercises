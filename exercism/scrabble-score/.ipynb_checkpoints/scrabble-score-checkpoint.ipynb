{
 "cells": [
  {
   "cell_type": "markdown",
   "metadata": {},
   "source": [
    "# Scrabble Score\n",
    "\n",
    "Given a word, compute the Scrabble score for that word.\n",
    "\n",
    "## Letter Values\n",
    "\n",
    "You'll need these:\n",
    "\n",
    "```text\n",
    "Letter                           Value\n",
    "A, E, I, O, U, L, N, R, S, T       1\n",
    "D, G                               2\n",
    "B, C, M, P                         3\n",
    "F, H, V, W, Y                      4\n",
    "K                                  5\n",
    "J, X                               8\n",
    "Q, Z                               10\n",
    "```\n",
    "\n",
    "## Examples\n",
    "\n",
    "\"cabbage\" should be scored as worth 14 points:\n",
    "\n",
    "- 3 points for C\n",
    "- 1 point for A, twice\n",
    "- 3 points for B, twice\n",
    "- 2 points for G\n",
    "- 1 point for E\n",
    "\n",
    "And to total:\n",
    "\n",
    "- `3 + 2*1 + 2*3 + 2 + 1`\n",
    "- = `3 + 2 + 6 + 3`\n",
    "- = `5 + 9`\n",
    "- = 14\n",
    "\n",
    "## Extensions\n",
    "\n",
    "- You can play a double or a triple letter.\n",
    "- You can play a double or a triple word.\n",
    "\n",
    "## Source\n",
    "\n",
    "Inspired by the Extreme Startup game [https://github.com/rchatley/extreme_startup](https://github.com/rchatley/extreme_startup)\n",
    "\n",
    "## Version compatibility\n",
    "This exercise has been tested on Julia versions >=1.0.\n",
    "\n",
    "## Submitting Incomplete Solutions\n",
    "It's possible to submit an incomplete solution so you can see how others have completed the exercise."
   ]
  },
  {
   "cell_type": "markdown",
   "metadata": {},
   "source": [
    "## Your solution"
   ]
  },
  {
   "cell_type": "code",
   "execution_count": 54,
   "metadata": {},
   "outputs": [
    {
     "data": {
      "text/plain": [
       "score"
      ]
     },
     "execution_count": 54,
     "metadata": {},
     "output_type": "execute_result"
    }
   ],
   "source": [
    "# submit\n",
    "\"\"\"\n",
    "        score(str::AbstractString; \n",
    "                doubleletter::AbstractString, \n",
    "                tripleletter::::AbstractString, \n",
    "                double::Bool, \n",
    "                triple::Bool)\n",
    "\n",
    "Returns the scrabble score for a given word using the chart:\n",
    "\n",
    "Letter                           Value\n",
    "A, E, I, O, U, L, N, R, S, T       1\n",
    "D, G                               2\n",
    "B, C, M, P                         3\n",
    "F, H, V, W, Y                      4\n",
    "K                                  5\n",
    "J, X                               8\n",
    "Q, Z                               10\n",
    "\n",
    "Raises ArgumentError if both double and triple true\n",
    "\"\"\"\n",
    "function score(str::AbstractString; \n",
    "        doubleletter=\"\"::AbstractString, tripleletter=\"\"::AbstractString, \n",
    "        double=false::Bool, triple=false::Bool)::Int\n",
    "    \n",
    "    scores = Dict(zip('A':'Z', [1,3,3,2,1,4,2,4,1,8,5,1,3,1,1,3,10,1,1,1,1,4,4,8,4,10]))\n",
    "    (double & triple) && throw(ArgumentError(\"Cannot be both double and triple\"))\n",
    "    mult = double ? 2 : (triple ? 3 : 1)\n",
    "    \n",
    "    return mult * sum([isascii(c) ? scores[uppercase(c)] : 0 for c ∈ str * doubleletter * tripleletter^2])\n",
    "    \n",
    "end"
   ]
  },
  {
   "cell_type": "code",
   "execution_count": 69,
   "metadata": {},
   "outputs": [
    {
     "data": {
      "text/plain": [
       "12"
      ]
     },
     "execution_count": 69,
     "metadata": {},
     "output_type": "execute_result"
    }
   ],
   "source": [
    "# count(nothing==1)\n",
    "# Dict(map(Pair, zip('a':'z', 1:26)))\n",
    "# d = Dict(zip('a':'b', [1,2]))\n",
    "score(\"hello\", tripleletter=\"l\")"
   ]
  },
  {
   "cell_type": "markdown",
   "metadata": {},
   "source": [
    "## Test suite"
   ]
  },
  {
   "cell_type": "code",
   "execution_count": 70,
   "metadata": {},
   "outputs": [
    {
     "name": "stdout",
     "output_type": "stream",
     "text": [
      "\u001b[37m\u001b[1mTest Summary:    | \u001b[22m\u001b[39m\u001b[32m\u001b[1mPass  \u001b[22m\u001b[39m\u001b[36m\u001b[1mTotal\u001b[22m\u001b[39m\n",
      "lowercase letter | \u001b[32m   1  \u001b[39m\u001b[36m    1\u001b[39m\n",
      "\u001b[37m\u001b[1mTest Summary:    | \u001b[22m\u001b[39m\u001b[32m\u001b[1mPass  \u001b[22m\u001b[39m\u001b[36m\u001b[1mTotal\u001b[22m\u001b[39m\n",
      "uppercase letter | \u001b[32m   1  \u001b[39m\u001b[36m    1\u001b[39m\n",
      "\u001b[37m\u001b[1mTest Summary:   | \u001b[22m\u001b[39m\u001b[32m\u001b[1mPass  \u001b[22m\u001b[39m\u001b[36m\u001b[1mTotal\u001b[22m\u001b[39m\n",
      "valuable letter | \u001b[32m   1  \u001b[39m\u001b[36m    1\u001b[39m\n",
      "\u001b[37m\u001b[1mTest Summary: | \u001b[22m\u001b[39m\u001b[32m\u001b[1mPass  \u001b[22m\u001b[39m\u001b[36m\u001b[1mTotal\u001b[22m\u001b[39m\n",
      "short word    | \u001b[32m   1  \u001b[39m\u001b[36m    1\u001b[39m\n",
      "\u001b[37m\u001b[1mTest Summary:        | \u001b[22m\u001b[39m\u001b[32m\u001b[1mPass  \u001b[22m\u001b[39m\u001b[36m\u001b[1mTotal\u001b[22m\u001b[39m\n",
      "short, valuable word | \u001b[32m   1  \u001b[39m\u001b[36m    1\u001b[39m\n",
      "\u001b[37m\u001b[1mTest Summary: | \u001b[22m\u001b[39m\u001b[32m\u001b[1mPass  \u001b[22m\u001b[39m\u001b[36m\u001b[1mTotal\u001b[22m\u001b[39m\n",
      "medium word   | \u001b[32m   1  \u001b[39m\u001b[36m    1\u001b[39m\n",
      "\u001b[37m\u001b[1mTest Summary:         | \u001b[22m\u001b[39m\u001b[32m\u001b[1mPass  \u001b[22m\u001b[39m\u001b[36m\u001b[1mTotal\u001b[22m\u001b[39m\n",
      "medium, valuable word | \u001b[32m   1  \u001b[39m\u001b[36m    1\u001b[39m\n",
      "\u001b[37m\u001b[1mTest Summary:         | \u001b[22m\u001b[39m\u001b[32m\u001b[1mPass  \u001b[22m\u001b[39m\u001b[36m\u001b[1mTotal\u001b[22m\u001b[39m\n",
      "long, mixed-case word | \u001b[32m   1  \u001b[39m\u001b[36m    1\u001b[39m\n",
      "\u001b[37m\u001b[1mTest Summary:     | \u001b[22m\u001b[39m\u001b[32m\u001b[1mPass  \u001b[22m\u001b[39m\u001b[36m\u001b[1mTotal\u001b[22m\u001b[39m\n",
      "english-like word | \u001b[32m   1  \u001b[39m\u001b[36m    1\u001b[39m\n",
      "\u001b[37m\u001b[1mTest Summary:                    | \u001b[22m\u001b[39m\u001b[32m\u001b[1mPass  \u001b[22m\u001b[39m\u001b[36m\u001b[1mTotal\u001b[22m\u001b[39m\n",
      "non-english letter is not scored | \u001b[32m   1  \u001b[39m\u001b[36m    1\u001b[39m\n",
      "\u001b[37m\u001b[1mTest Summary: | \u001b[22m\u001b[39m\u001b[32m\u001b[1mPass  \u001b[22m\u001b[39m\u001b[36m\u001b[1mTotal\u001b[22m\u001b[39m\n",
      "empty input   | \u001b[32m   1  \u001b[39m\u001b[36m    1\u001b[39m\n",
      "\u001b[37m\u001b[1mTest Summary:             | \u001b[22m\u001b[39m\u001b[32m\u001b[1mPass  \u001b[22m\u001b[39m\u001b[36m\u001b[1mTotal\u001b[22m\u001b[39m\n",
      "entire alphabet available | \u001b[32m   1  \u001b[39m\u001b[36m    1\u001b[39m\n"
     ]
    },
    {
     "data": {
      "text/plain": [
       "Test.DefaultTestSet(\"entire alphabet available\", Any[], 1, false)"
      ]
     },
     "execution_count": 70,
     "metadata": {},
     "output_type": "execute_result"
    }
   ],
   "source": [
    "using Test\n",
    "\n",
    "# include(\"scrabble-score.jl\")\n",
    "\n",
    "@testset \"lowercase letter\" begin\n",
    "    @test score(\"a\") == 1\n",
    "end\n",
    "\n",
    "@testset \"uppercase letter\" begin\n",
    "    @test score(\"A\") == 1\n",
    "end\n",
    "\n",
    "@testset \"valuable letter\" begin\n",
    "    @test score(\"f\") == 4\n",
    "end\n",
    "\n",
    "@testset \"short word\" begin\n",
    "    @test score(\"at\") == 2\n",
    "end\n",
    "\n",
    "@testset \"short, valuable word\" begin\n",
    "    @test score(\"zoo\") == 12\n",
    "end\n",
    "\n",
    "@testset \"medium word\" begin\n",
    "    @test score(\"street\") == 6\n",
    "end\n",
    "\n",
    "@testset \"medium, valuable word\" begin\n",
    "    @test score(\"quirky\") == 22\n",
    "end\n",
    "\n",
    "@testset \"long, mixed-case word\" begin\n",
    "    @test score(\"OxyphenButazone\") == 41\n",
    "end\n",
    "\n",
    "@testset \"english-like word\" begin\n",
    "    @test score(\"pinata\") == 8\n",
    "end\n",
    "\n",
    "@testset \"non-english letter is not scored\" begin\n",
    "    @test score(\"piñata\") == 7\n",
    "end\n",
    "\n",
    "@testset \"empty input\" begin\n",
    "    @test score(\"\") == 0\n",
    "end\n",
    "\n",
    "@testset \"entire alphabet available\" begin\n",
    "    @test score(\"abcdefghijklmnopqrstuvwxyz\") == 87\n",
    "end"
   ]
  },
  {
   "cell_type": "markdown",
   "metadata": {},
   "source": [
    "## Prepare submission\n",
    "To submit your exercise, you need to save your solution in a file called `scrabble-score.jl` before using the CLI.\n",
    "You can either create it manually or use the following functions, which will automatically write every notebook cell that starts with `# submit` to the file `scrabble-score.jl`.\n"
   ]
  },
  {
   "cell_type": "code",
   "execution_count": 30,
   "metadata": {},
   "outputs": [
    {
     "name": "stderr",
     "output_type": "stream",
     "text": [
      "\u001b[32m\u001b[1m   Updating\u001b[22m\u001b[39m registry at `~/.julia/registries/General`\n",
      "######################################################################### 100.0%\n",
      "\u001b[32m\u001b[1m  Resolving\u001b[22m\u001b[39m package versions...\n",
      "\u001b[32m\u001b[1mNo Changes\u001b[22m\u001b[39m to `~/.julia/environments/v1.5/Project.toml`\n",
      "\u001b[32m\u001b[1mNo Changes\u001b[22m\u001b[39m to `~/.julia/environments/v1.5/Manifest.toml`\n"
     ]
    },
    {
     "data": {
      "text/plain": [
       "182"
      ]
     },
     "execution_count": 30,
     "metadata": {},
     "output_type": "execute_result"
    }
   ],
   "source": [
    "using Pkg; Pkg.add(\"Exercism\")\n",
    "using Exercism\n",
    "Exercism.create_submission(\"scrabble-score\")"
   ]
  },
  {
   "cell_type": "code",
   "execution_count": null,
   "metadata": {},
   "outputs": [],
   "source": []
  }
 ],
 "metadata": {
  "kernelspec": {
   "display_name": "Julia 1.5.4",
   "language": "julia",
   "name": "julia-1.5"
  },
  "language_info": {
   "file_extension": ".jl",
   "mimetype": "application/julia",
   "name": "julia",
   "version": "1.5.4"
  }
 },
 "nbformat": 4,
 "nbformat_minor": 2
}
